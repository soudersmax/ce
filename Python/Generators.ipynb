{
 "cells": [
  {
   "cell_type": "markdown",
   "id": "equivalent-mercury",
   "metadata": {},
   "source": [
    "# Generators in Python\n",
    "\n",
    "1. [Generator Expressions](#exp)\n",
    "2. [Yield](#yield)\n",
    "3. [Simple Use Cases](#ex)\n",
    "   * [Reading Large Files](#csv)\n",
    "   * [Generating Infinite Sequences](#seq)\n",
    "   * [Detecting Palindromes](#pal)\n",
    "4. [Advanced Generator Methods](#adv)\n",
    "5. [Creating Data Pipelines with Generators](#data)"
   ]
  },
  {
   "cell_type": "markdown",
   "id": "important-charles",
   "metadata": {},
   "source": [
    "* Generator functions are a special kind of function that returns a lazy iterator\n",
    "    * __Lazy (call-by-need)__ - An evaluation strategy which delays the evaluation of an expression until its value is needed and which also avoids repeated evaluations\n",
    "        * Benefits - define control flow, define potentially infinite data structures, increase performance and avoid error conditions\n",
    "        * Often combined with memoization, where function results are stored in an indexed lookup table\n",
    "        * Also called _generator object_\n",
    "* Lazy iterators/generator objects can be looped over like a list, but their contents are not stored in memory\n",
    "* Can be progressed by a for loop or using the built-in next() function, at which point it retrieves the next value from the statement/expression\n",
    "    * next() is particularly helpful for testing generators in the console/terminal\n",
    "    * There are additional optional keywords, but all that's necessary is the name of the generator\n",
    "    * If there is no 'next' value, the generator will throw `StopIteration`.\n",
    "* Generators use the __yield__ keyword\n",
    "    * Yield - indicates where a value is sent back to the caller, but doesn't exit the function like a return would\n",
    "    * The state of the function is remembered, so when next() is called on a generator object, it provides the next iteration after where you previously left off"
   ]
  },
  {
   "cell_type": "code",
   "execution_count": 7,
   "id": "planned-mixture",
   "metadata": {},
   "outputs": [],
   "source": [
    "def my_gen():\n",
    "    for num in range(5):\n",
    "        yield num\n",
    "        num += 1        "
   ]
  },
  {
   "cell_type": "markdown",
   "id": "brave-degree",
   "metadata": {},
   "source": [
    "## Generator Expressions <a class=\"anchor\" id=\"exp\"></a>"
   ]
  },
  {
   "cell_type": "markdown",
   "id": "individual-enemy",
   "metadata": {},
   "source": [
    "* Generators can be written like list comprehension except with () rather than []\n",
    "* Allow the creation of the generator object without building and holding the entire object in memory before iteration\n",
    "    * Result is equivalent to generator function, just an implied yield in each iteration\n",
    "* List comprehension can be faster to evaluate than equivalent generator expressions when the list is _smaller_ than the running machiine's available memory\n",
    "    * If speed is an issue, but memory isn't, list comp is likely better\n",
    "* Often used with aggregate functions like sum, max, and min"
   ]
  },
  {
   "cell_type": "code",
   "execution_count": 11,
   "id": "subject-faith",
   "metadata": {},
   "outputs": [
    {
     "data": {
      "text/plain": [
       "<generator object <genexpr> at 0x7f1994610c10>"
      ]
     },
     "execution_count": 11,
     "metadata": {},
     "output_type": "execute_result"
    }
   ],
   "source": [
    "g = (x**2 for x in range(5))\n",
    "g"
   ]
  },
  {
   "cell_type": "code",
   "execution_count": 12,
   "id": "graduate-syracuse",
   "metadata": {},
   "outputs": [
    {
     "name": "stdout",
     "output_type": "stream",
     "text": [
      "0\n",
      "1\n",
      "4\n",
      "9\n",
      "16\n"
     ]
    }
   ],
   "source": [
    "print(next(g))\n",
    "print(next(g))\n",
    "print(next(g))\n",
    "print(next(g))\n",
    "print(next(g))"
   ]
  },
  {
   "cell_type": "code",
   "execution_count": 16,
   "id": "minute-chess",
   "metadata": {},
   "outputs": [
    {
     "name": "stdout",
     "output_type": "stream",
     "text": [
      "List comprehension: 87616 bytes\n",
      "Generator: 112 bytes\n"
     ]
    }
   ],
   "source": [
    "# generators are so much smaller than list comprehen.!\n",
    "import sys\n",
    "\n",
    "square_lc = [i ** 2 for i in range(10000)]\n",
    "lc = sys.getsizeof(square_lc)\n",
    "\n",
    "square_gc = (i **2 for i in range(10000))\n",
    "gc = sys.getsizeof(square_gc)\n",
    "\n",
    "print(f'List comprehension: {lc} bytes\\nGenerator: {gc} bytes')"
   ]
  },
  {
   "cell_type": "markdown",
   "id": "generous-excess",
   "metadata": {},
   "source": [
    "## More about yield <a class=\"anchor\" id=\"yield\"></a>"
   ]
  },
  {
   "cell_type": "markdown",
   "id": "athletic-neighbor",
   "metadata": {},
   "source": [
    "* Primary job is to control the flow of a generator function\n",
    "* Calling a generator function/using a generator expression returns a generator object, which can be assigned to a variable in order to use it\n",
    "    * It has its own methods, etc, like any other object\n",
    "* When the yield statement is hit, the program suspends function execution and returns the yielded value to the caller\n",
    "    * Because it's suspended, not _ended_, it can resume from the same place the next time it's called upon"
   ]
  },
  {
   "cell_type": "markdown",
   "id": "activated-ethnic",
   "metadata": {},
   "source": [
    "## Simple Use Cases <a class=\"anchor\" id=\"ex\"></a>"
   ]
  },
  {
   "cell_type": "markdown",
   "id": "saving-spotlight",
   "metadata": {},
   "source": [
    "### Reading large files <a class=\"anchor\" id=\"csv\"></a>"
   ]
  },
  {
   "cell_type": "code",
   "execution_count": null,
   "id": "major-enlargement",
   "metadata": {},
   "outputs": [],
   "source": [
    "# Use a csv reader GENERATOR FUNCTION\n",
    "    # just opens the file and reads it + yield statement \n",
    "def csv_reader(file_name):\n",
    "    for row in open(file_name, \"r\"):\n",
    "        yield row\n",
    "\n",
    "# Count the number of rows in a large csv\n",
    "csv_gen = csv_reader(\"some_csv.txt\")\n",
    "row_count = 0\n",
    "\n",
    "for row in csv_gen:\n",
    "    row_count += 1\n",
    "\n",
    "print(f\"Row count is {row_count}\")"
   ]
  },
  {
   "cell_type": "markdown",
   "id": "nervous-incidence",
   "metadata": {},
   "source": [
    "### Generating an infinte sequence <a class=\"anchor\" id=\"seq\"></a>"
   ]
  },
  {
   "cell_type": "code",
   "execution_count": 4,
   "id": "backed-berkeley",
   "metadata": {},
   "outputs": [
    {
     "data": {
      "text/plain": [
       "[0, 1, 2, 3, 4]"
      ]
     },
     "execution_count": 4,
     "metadata": {},
     "output_type": "execute_result"
    }
   ],
   "source": [
    "# For a finite range, you call range and evaluate in a list\n",
    "a = range(5)\n",
    "list(a)"
   ]
  },
  {
   "cell_type": "code",
   "execution_count": null,
   "id": "serial-footwear",
   "metadata": {},
   "outputs": [],
   "source": [
    "# Because memory is finite, we need a generator\n",
    "def infinite_sequence():\n",
    "    num = 0\n",
    "    while True:\n",
    "        yield num\n",
    "        num +=1\n",
    "# This can be used in a for loop and continues until ended by hand\n",
    "for i in infinte_sequence():\n",
    "    print(i, end=\" \")"
   ]
  },
  {
   "cell_type": "markdown",
   "id": "physical-beatles",
   "metadata": {},
   "source": [
    "### Detecting Palindromes <a class=\"anchor\" id=\"pal\"></a>"
   ]
  },
  {
   "cell_type": "markdown",
   "id": "happy-replacement",
   "metadata": {},
   "source": [
    "* Practical use for infinite sequences\n",
    "* Palindrome detector will locate all sequences of letters or numbers that are palindromes\n",
    "    * The function will take an input number, reverse it and see if it's the same as the original "
   ]
  },
  {
   "cell_type": "code",
   "execution_count": null,
   "id": "american-central",
   "metadata": {},
   "outputs": [],
   "source": [
    "def is_palindrome(num):\n",
    "    # skip single digit inputs\n",
    "    if num //10 = 0:\n",
    "        return False\n",
    "    temp = num\n",
    "    reversed_num = 0\n",
    "    \n",
    "    # Ignore this math\n",
    "    while temp != 0:\n",
    "        reversed_num = (reversed_num * 10) + (temp % 10)\n",
    "        temp = temp // 10\n",
    "    \n",
    "    if num == reversed_num:\n",
    "        return num\n",
    "    else:\n",
    "        return False\n",
    "\n",
    "# use generator to print the infinte sequence of palindromes\n",
    "for i in infinite_sequence():\n",
    "    pal = is_palindrome(i)\n",
    "    if pal:\n",
    "        print(pal)"
   ]
  },
  {
   "cell_type": "markdown",
   "id": "fourth-batman",
   "metadata": {},
   "source": [
    "## Advanced Generator Methods <a class=\"anchor\" id=\"adv\"></a>"
   ]
  },
  {
   "cell_type": "markdown",
   "id": "sophisticated-isolation",
   "metadata": {},
   "source": [
    "* Yield is actually an _expression_ rather than a statement, though it can be used as either.\n",
    "    * This allows it to to be manipulated (ex: assign yielded values within other code (see the refactored sequence generator))\n",
    "* send() - \n",
    "    * Sends a value back to the generator\n",
    "    * When  execution picks up after yield, i will take the value that is sent from the generator\n",
    "* throw() -\n",
    "    * Allows you to throw an exception\n",
    "* close() -\n",
    "    * Allows you to stop a generator\n",
    "    * Raises StopIteration exception"
   ]
  },
  {
   "cell_type": "code",
   "execution_count": 1,
   "id": "working-morris",
   "metadata": {},
   "outputs": [],
   "source": [
    "# refactor palindrome code to only return T/F\n",
    "def is_pal(num):\n",
    "    # skip single digit inputs\n",
    "    if num // 10 == 0:\n",
    "        return False\n",
    "    temp = num\n",
    "    reversed_num = 0\n",
    "     \n",
    "    if num == reversed_num:\n",
    "        return True\n",
    "    else:\n",
    "        return False\n",
    "    \n",
    "# Refactor squence generator\n",
    "def infinite_palindromes():\n",
    "    num = 0\n",
    "    \n",
    "    while True:\n",
    "        if is_pal(num):\n",
    "            i = (yield num) # yield expression\n",
    "            if i is not None:\n",
    "                num = i\n",
    "        num += 1"
   ]
  },
  {
   "cell_type": "markdown",
   "id": "pharmaceutical-tragedy",
   "metadata": {},
   "source": [
    "* The main function for our new palindrome generator will send back the lowest number with another digit\n",
    "    * ie: if the palindrome is 121, then it will send() 1000\n",
    "* If digits hits 5, throw a ValueError\n",
    "* Updated to use close to end the loop instead\n",
    "\n",
    "1. Create a generator object and iterate through it, only yielding a value when a palindrome is found\n",
    "2. Determine the number of digits in that palindrome\n",
    "3. Send 10 ** digits to the generator\n",
    "4. Execution now goes back to the generator logic and assigns 10 ** digits to i\n",
    "5. Because i now has a value, the program updates num, increments and checks for palindromes again. \n",
    "\n",
    "* Once we find and yield another palindrome, we iterate via the for loop in the below code again, and the generator picks up at `i = (yield num)`. i is now None, because we didn't explicitly send it a value"
   ]
  },
  {
   "cell_type": "code",
   "execution_count": null,
   "id": "offensive-respondent",
   "metadata": {},
   "outputs": [],
   "source": [
    "# main function code \n",
    "pal_gen = infinite_palindromes()\n",
    "for i in pal_gen:\n",
    "    print(i)\n",
    "    digits = len(str(i))\n",
    "    if digits == 5:\n",
    "        #pal_gen.throw(ValueError(\"We don't like large palindromes\"))\n",
    "        pal_gen.close()\n",
    "    pal_gen.send(10 ** (digits))"
   ]
  },
  {
   "cell_type": "markdown",
   "id": "italic-union",
   "metadata": {},
   "source": [
    "* This is called a __coroutine__ - a generator function into which you can pass data\n",
    "    * Useful (but not necessary) for building data pipelines\n",
    "    * <a href= \"http://www.dabeaz.com/coroutines/\">For more about coroutines click here</a>"
   ]
  },
  {
   "cell_type": "markdown",
   "id": "magnetic-making",
   "metadata": {},
   "source": [
    "## Data Pipelines with Generators <a class=\"anchor\" id=\"data\"></a>"
   ]
  },
  {
   "cell_type": "markdown",
   "id": "sensitive-nation",
   "metadata": {},
   "source": [
    "___Plan___\n",
    "1. Read every line of a file\n",
    "2. Split each line into a list of values\n",
    "3. Extract column names\n",
    "4. Use the column names and lists to create a dictionary\n",
    "5. Filter out irrelevant data (rounds)\n",
    "6. Calculate the total and average values for relevant data (rounds)"
   ]
  },
  {
   "cell_type": "code",
   "execution_count": 27,
   "id": "utility-nicaragua",
   "metadata": {},
   "outputs": [],
   "source": [
    "# Read each line from file with generator expression\n",
    "file_name = \"resources/generators.csv\"\n",
    "lines = (line for line in open(file_name))\n",
    "\n",
    "# Use another generator exp. to split lines into lists\n",
    "list_line = (s.rstrip().split(\",\") for s in lines)"
   ]
  },
  {
   "cell_type": "markdown",
   "id": "soviet-advertiser",
   "metadata": {},
   "source": [
    "* rstrip() removes trailing characters from strings, with no argument it removes whitespace and newlines\n",
    "* split() explicitly splits a str into a list at a given separator  \n",
    "___Common Design Pattern:___\n",
    "* The generator `list_line` iterates through the first generator `lines`\n",
    "    * `lines` retrieves a row from the file\n",
    "    * `lines_list` turns the line into a list"
   ]
  },
  {
   "cell_type": "code",
   "execution_count": 28,
   "id": "informed-classification",
   "metadata": {},
   "outputs": [
    {
     "name": "stdout",
     "output_type": "stream",
     "text": [
      "['permalink', 'company', 'numEmps', 'category', 'city', 'state', 'fundedDate', 'raisedAmt', 'raisedCurrency', 'round']\n"
     ]
    }
   ],
   "source": [
    "# Extract column names from the file\n",
    "cols = next(list_line)\n",
    "print(cols)"
   ]
  },
  {
   "cell_type": "markdown",
   "id": "acknowledged-patent",
   "metadata": {},
   "source": [
    "* Because the column names are typically the first row, calling next on the generator advances the iterator over `list_lines` once\n",
    "* To help with filtering and performing operations on the data, make __another generator__ to convert it to dictionaries\n",
    "    * Key = column names from cols\n",
    "    * Value = data from list_line\n",
    "* zip() takes in iterables and returns an iterator, object which can then be converted to a given data type"
   ]
  },
  {
   "cell_type": "code",
   "execution_count": 29,
   "id": "employed-trial",
   "metadata": {},
   "outputs": [],
   "source": [
    "# Use generator expression to create dictionaries\n",
    "company_dicts = (dict(zip(cols,data)) for data in list_line)"
   ]
  },
  {
   "cell_type": "markdown",
   "id": "minus-enough",
   "metadata": {},
   "source": [
    "* Use __another generator__ to filter the desired funding round and pull the amount raised \n",
    "    * Iterates through the results of company_dicts and takes the raisedAmt for any company_dict where the round key is 'a'  \n",
    "    \n",
    "___Remember that generators don't iterate through all items at once. In fact, don't iterate through anything until we actually use a loop or a function that works on iterables___"
   ]
  },
  {
   "cell_type": "code",
   "execution_count": 30,
   "id": "frozen-defeat",
   "metadata": {},
   "outputs": [
    {
     "ename": "KeyError",
     "evalue": "'round'",
     "output_type": "error",
     "traceback": [
      "\u001b[0;31m---------------------------------------------------------------------------\u001b[0m",
      "\u001b[0;31mKeyError\u001b[0m                                  Traceback (most recent call last)",
      "\u001b[0;32m<ipython-input-30-16772e05cd2d>\u001b[0m in \u001b[0;36m<module>\u001b[0;34m\u001b[0m\n\u001b[1;32m      4\u001b[0m \u001b[0;34m\u001b[0m\u001b[0m\n\u001b[1;32m      5\u001b[0m \u001b[0;31m# Find the sum (works on iterables)\u001b[0m\u001b[0;34m\u001b[0m\u001b[0;34m\u001b[0m\u001b[0;34m\u001b[0m\u001b[0m\n\u001b[0;32m----> 6\u001b[0;31m \u001b[0mtotal_series_a\u001b[0m \u001b[0;34m=\u001b[0m \u001b[0msum\u001b[0m\u001b[0;34m(\u001b[0m\u001b[0mfunding\u001b[0m\u001b[0;34m)\u001b[0m\u001b[0;34m\u001b[0m\u001b[0;34m\u001b[0m\u001b[0m\n\u001b[0m\u001b[1;32m      7\u001b[0m \u001b[0mprint\u001b[0m\u001b[0;34m(\u001b[0m\u001b[0;34mf'Total series A fundraising: ${total_series_a}'\u001b[0m\u001b[0;34m)\u001b[0m\u001b[0;34m\u001b[0m\u001b[0;34m\u001b[0m\u001b[0m\n",
      "\u001b[0;32m<ipython-input-30-16772e05cd2d>\u001b[0m in \u001b[0;36m<genexpr>\u001b[0;34m(.0)\u001b[0m\n\u001b[1;32m      1\u001b[0m \u001b[0;31m# Filter dictionaries for data of interest\u001b[0m\u001b[0;34m\u001b[0m\u001b[0;34m\u001b[0m\u001b[0;34m\u001b[0m\u001b[0m\n\u001b[1;32m      2\u001b[0m funding = (\n\u001b[0;32m----> 3\u001b[0;31m     int(company_dict['raisedAmt']) for company_dict in company_dicts if company_dict['round'] == 'a')\n\u001b[0m\u001b[1;32m      4\u001b[0m \u001b[0;34m\u001b[0m\u001b[0m\n\u001b[1;32m      5\u001b[0m \u001b[0;31m# Find the sum (works on iterables)\u001b[0m\u001b[0;34m\u001b[0m\u001b[0;34m\u001b[0m\u001b[0;34m\u001b[0m\u001b[0m\n",
      "\u001b[0;31mKeyError\u001b[0m: 'round'"
     ]
    }
   ],
   "source": [
    "# Filter dictionaries for data of interest\n",
    "funding = (\n",
    "    int(company_dict['raisedAmt']) for company_dict in company_dicts if company_dict['round'] == 'a')\n",
    "\n",
    "# Find the sum (works on iterables)\n",
    "total_series_a = sum(funding)\n",
    "print(f'Total series A fundraising: ${total_series_a}')"
   ]
  },
  {
   "cell_type": "code",
   "execution_count": 21,
   "id": "departmental-seven",
   "metadata": {},
   "outputs": [
    {
     "ename": "KeyError",
     "evalue": "'round'",
     "output_type": "error",
     "traceback": [
      "\u001b[0;31m---------------------------------------------------------------------------\u001b[0m",
      "\u001b[0;31mKeyError\u001b[0m                                  Traceback (most recent call last)",
      "\u001b[0;32m<ipython-input-21-fdc7b60b63a6>\u001b[0m in \u001b[0;36m<module>\u001b[0;34m\u001b[0m\n\u001b[1;32m     19\u001b[0m )\n\u001b[1;32m     20\u001b[0m \u001b[0;34m\u001b[0m\u001b[0m\n\u001b[0;32m---> 21\u001b[0;31m \u001b[0mtotal_series_a\u001b[0m \u001b[0;34m=\u001b[0m \u001b[0msum\u001b[0m\u001b[0;34m(\u001b[0m\u001b[0mfunding\u001b[0m\u001b[0;34m)\u001b[0m\u001b[0;34m\u001b[0m\u001b[0;34m\u001b[0m\u001b[0m\n\u001b[0m\u001b[1;32m     22\u001b[0m \u001b[0;34m\u001b[0m\u001b[0m\n\u001b[1;32m     23\u001b[0m \u001b[0mprint\u001b[0m\u001b[0;34m(\u001b[0m\u001b[0;34mf\"Total series A fundraising: ${total_series_a}\"\u001b[0m\u001b[0;34m)\u001b[0m\u001b[0;34m\u001b[0m\u001b[0;34m\u001b[0m\u001b[0m\n",
      "\u001b[0;32m<ipython-input-21-fdc7b60b63a6>\u001b[0m in \u001b[0;36m<genexpr>\u001b[0;34m(.0)\u001b[0m\n\u001b[1;32m     15\u001b[0m     \u001b[0;32mfor\u001b[0m \u001b[0mcompany_dict\u001b[0m \u001b[0;32min\u001b[0m \u001b[0mcompany_dicts\u001b[0m\u001b[0;34m\u001b[0m\u001b[0;34m\u001b[0m\u001b[0m\n\u001b[1;32m     16\u001b[0m \u001b[0;34m\u001b[0m\u001b[0m\n\u001b[0;32m---> 17\u001b[0;31m     \u001b[0;32mif\u001b[0m \u001b[0mcompany_dict\u001b[0m\u001b[0;34m[\u001b[0m\u001b[0;34m\"round\"\u001b[0m\u001b[0;34m]\u001b[0m \u001b[0;34m==\u001b[0m \u001b[0;34m\"a\"\u001b[0m\u001b[0;34m\u001b[0m\u001b[0;34m\u001b[0m\u001b[0m\n\u001b[0m\u001b[1;32m     18\u001b[0m \u001b[0;34m\u001b[0m\u001b[0m\n\u001b[1;32m     19\u001b[0m )\n",
      "\u001b[0;31mKeyError\u001b[0m: 'round'"
     ]
    }
   ],
   "source": [
    "file_name = \"resources/generators.csv\"\n",
    "\n",
    "lines = (line for line in open(file_name))\n",
    "\n",
    "list_line = (s.rstrip().split(\",\") for s in lines)\n",
    "\n",
    "cols = next(list_line)\n",
    "\n",
    "company_dicts = (dict(zip(cols, data)) for data in list_line)\n",
    "\n",
    "funding = (\n",
    "\n",
    "    int(company_dict[\"raisedAmt\"])\n",
    "\n",
    "    for company_dict in company_dicts\n",
    "\n",
    "    if company_dict[\"round\"] == \"a\"\n",
    "\n",
    ")\n",
    "\n",
    "total_series_a = sum(funding)\n",
    "\n",
    "print(f\"Total series A fundraising: ${total_series_a}\")"
   ]
  },
  {
   "cell_type": "code",
   "execution_count": null,
   "id": "sharp-aquatic",
   "metadata": {},
   "outputs": [],
   "source": []
  }
 ],
 "metadata": {
  "kernelspec": {
   "display_name": "Python 3",
   "language": "python",
   "name": "python3"
  },
  "language_info": {
   "codemirror_mode": {
    "name": "ipython",
    "version": 3
   },
   "file_extension": ".py",
   "mimetype": "text/x-python",
   "name": "python",
   "nbconvert_exporter": "python",
   "pygments_lexer": "ipython3",
   "version": "3.8.5"
  }
 },
 "nbformat": 4,
 "nbformat_minor": 5
}
