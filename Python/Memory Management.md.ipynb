{
 "cells": [
  {
   "cell_type": "markdown",
   "id": "dying-album",
   "metadata": {},
   "source": [
    "# Memory Management in Python\n",
    "\n",
    "* [Memory Management: From Hardware to Software](#ware)\n",
    "* [The Default Python Implementation](#def)\n",
    "* [Garbage Collection](#trash)\n",
    "* [CPython's Memory Management Strategy](#cpy)\n",
    "    * [Pools](#pool)\n",
    "    * [Blocks](#block)\n",
    "    * [Arenas](#arena)"
   ]
  },
  {
   "cell_type": "markdown",
   "id": "animal-ethics",
   "metadata": {},
   "source": [
    "## Memory Management: From Hardware to Software <a class=\"anchor\" id=\"ware\"></a>"
   ]
  },
  {
   "cell_type": "markdown",
   "id": "handled-second",
   "metadata": {},
   "source": [
    "* Process by which applications read and write data\n",
    "* __Memory Manager__ - determines where to put an application's data in a process called __allocation__\n",
    "    * When that data is no longer needed it can be __freed_\n",
    "* Python goes through many layers of abstractoin before any saved objects actually get to the hardware that stores your data\n",
    "    * Python handles memory management with the python applicaiton that runs in the background of your programs"
   ]
  },
  {
   "cell_type": "markdown",
   "id": "together-barcelona",
   "metadata": {},
   "source": [
    "## The Default Python Implementation <a class=\"anchor\" id=\"def\"></a>"
   ]
  },
  {
   "cell_type": "markdown",
   "id": "direct-market",
   "metadata": {},
   "source": [
    "* Python is implemented in CPython (which is written in C) by default\n",
    "    * Python gets compiled down to bytecode and interpreted by CPython, a VM\n",
    "    * There are other implementations, such as Jython, Iron Python, PyPy\n",
    "* C does not natively support object-oriented programming, but on an implementation level, everything in Python _is_ an object\n",
    "    * All of Python's datatypes use a `struct` from C called `PyObject`\n",
    "        * `struct` (short for structure) is a custom data type that groups together additional data types\n",
    "    * `PyObject` contains only two things:\n",
    "        1. `ob_refcnt`: reference count\n",
    "        2. `ob_type`: pointer to another type\n",
    "    * Reference count is used for garbage collection\n",
    "    * Object type is just a pointer to another `struct` that describes a python object (like dict or int)\n",
    "* Each object has its own object-specific memory allocator and deallocator that 'knows' how to store and free the object\n",
    "    * As a shared resource, memory is protected through the GIL"
   ]
  },
  {
   "cell_type": "markdown",
   "id": "improving-shakespeare",
   "metadata": {},
   "source": [
    "## Garbage Collection <a class=\"anchor\" id=\"trash\"></a>"
   ]
  },
  {
   "cell_type": "markdown",
   "id": "related-extra",
   "metadata": {},
   "source": [
    "* Reference count gets increased for many reasons, some commons ones:\n",
    "    1. Assign it to another variable\n",
    "    2. Pass the object as an argument\n",
    "    3. Include the object in a list\n",
    "* When an object's reference count drops to 0, the deallocation function ('garbage collector') frees the memory so that other objects can use it"
   ]
  },
  {
   "cell_type": "markdown",
   "id": "affected-society",
   "metadata": {},
   "source": [
    "## CPython's Memory Management  Strategy<a class=\"anchor\" id=\"cpy\"></a>"
   ]
  },
  {
   "cell_type": "markdown",
   "id": "informal-democracy",
   "metadata": {},
   "source": [
    "* The OS abstracts the physical memory and creates a virtual  memory layer that applications can access\n",
    "    * Carves out a chunk of memory for a process, in this case, Python, which know owns the dark gray boxes of memory below\n",
    "    <br>\n",
    "<img src=\"resources/malloc.PNG\">\n",
    "* Python then uses a portion of the memory for internal use and non-object memory and another portion for object storage\n",
    "* CPython has an object allocator that is responsible for allocating memory wihtin the _object memory area_\n",
    "    * \"Fast, special purpose memory allocator for small blocks, to be used on top of a general purpose malloc\"\n",
    "    * This gets called every time a new object needs space allocated or deleted\n",
    "    * Most objects don't involve too much data at one time, so the allocator is designed to work best with relatively small amounts of data at a time. \n",
    "    * Tries not to allocate memory until it's absolutely required\n",
    "* CPython organizes the memory space in 3 main \"containers\"\n",
    "    1. Arenas - The largest chunks of memory (~256 KB). They are aligned on a memory page boundary (ie: the edge of a fixed-length contiguous chunk of memory that the OS uses)\n",
    "    2. Pools - 2nd level of organizaiton. All blocks contained in a pool are of the same size class\n",
    "        * Size class defines a speific block size, given some amount of requested data\n",
    "    3. Blocks - Smallest piece. Its size is determined by the size of the data request\n",
    "    \n",
    "<img src=\"resources/cpy_book.PNG\">"
   ]
  },
  {
   "cell_type": "markdown",
   "id": "stainless-possession",
   "metadata": {},
   "source": [
    "### Pools <a class=\"anchor\" id=\"pool\"></a>"
   ]
  },
  {
   "cell_type": "markdown",
   "id": "impossible-guitar",
   "metadata": {},
   "source": [
    "* Composed of blocks from a single size class\n",
    "* Each pool maintains a ___double-linked list___ to other pools of the same size class, for easy location of available space even across pools\n",
    "* Pool status is tracked via 2 lists:\n",
    "    * `usedpools` list tracks all the pools that have some space available for data for each size class\n",
    "        * When a given block size is requested, the algorithm checks this list for available space\n",
    "    * `freepools` list tracks all the empty pools\n",
    "        * Will try to use any available blocks in a used pool before starting a new one\n",
    "* Pools are always in one of 3 states:\n",
    "    1. Used - contains available blocks for data to be stored\n",
    "    2. Full \n",
    "    3. Empty - Can be assigned any size class for blocks when needed\n",
    "* Pools contain a pointer to their \"free blocks\"\n",
    "<img src=\"resources/blocks.PNG\">"
   ]
  },
  {
   "cell_type": "markdown",
   "id": "naughty-fashion",
   "metadata": {},
   "source": [
    "### Blocks <a class=\"anchor\" id=\"block\"></a>"
   ]
  },
  {
   "cell_type": "markdown",
   "id": "labeled-material",
   "metadata": {},
   "source": [
    "* Blocks can be in 1 of 3 states\n",
    "    1. Untouched - a portion of memory that has not been allocated\n",
    "    2. Free - a portion of memory that was allocated by later made \"free\" by CPython and no longer contains relevant data. It is not yet released to the OS\n",
    "    3. Allocated - a portion of memory that actually contains relevant data\n",
    "* `freeblock` pointer points to a single linked list of free blocks of memory (ie: available places to put data)\n",
    "    * If more memory needs to be allocated, the allocator will get some untouched blocks, but always starts with previously allocated blocks\n",
    "    * As blocks are made free, they gt added to the front of the `freeblock` list.\n",
    "    * It's not always actually contiguous, could look more like this than the first image above\n",
    "\n",
    "<img src=\"resources/blocks2.PNG\">    "
   ]
  },
  {
   "cell_type": "markdown",
   "id": "detected-estimate",
   "metadata": {},
   "source": [
    "### Arenas <a class=\"anchor\" id=\"arena\"></a>"
   ]
  },
  {
   "cell_type": "markdown",
   "id": "activated-congo",
   "metadata": {},
   "source": [
    "* Instead of explicit states like pools and blocks, Arenas are organized into a double linked list called `usable_arenas`\n",
    "    * Sorted ascending by the number of free pools available\n",
    "* Arenas are the only things that can truly be freed to the OS\n",
    "<img src=\"resources/arenas.PNG\">"
   ]
  }
 ],
 "metadata": {
  "kernelspec": {
   "display_name": "Python 3",
   "language": "python",
   "name": "python3"
  },
  "language_info": {
   "codemirror_mode": {
    "name": "ipython",
    "version": 3
   },
   "file_extension": ".py",
   "mimetype": "text/x-python",
   "name": "python",
   "nbconvert_exporter": "python",
   "pygments_lexer": "ipython3",
   "version": "3.8.5"
  }
 },
 "nbformat": 4,
 "nbformat_minor": 5
}
