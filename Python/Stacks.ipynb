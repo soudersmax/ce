{
 "cells": [
  {
   "cell_type": "markdown",
   "id": "superior-highlight",
   "metadata": {},
   "source": [
    "# Stacks"
   ]
  },
  {
   "cell_type": "markdown",
   "id": "statutory-blackjack",
   "metadata": {},
   "source": [
    "* Memory is allocated like a stack - one on top of another\n",
    "* __L__ast __I__n __F__irst __O__ut = LIFO\n",
    "    * Only allows operations at one end which can be called the 'top'\n",
    "    * __Push__ - adding an element to the stack\n",
    "    * __Pop__ - removing elements from the stack"
   ]
  },
  {
   "cell_type": "code",
   "execution_count": 6,
   "id": "brave-hardwood",
   "metadata": {},
   "outputs": [],
   "source": [
    "class Stack:\n",
    "    \n",
    "    # On initialization, stack is a list \n",
    "    def __init__(self):\n",
    "        self.stack = []\n",
    "    \n",
    "    # Use list append to add elements \n",
    "    def add(self, dataval):\n",
    "        if dataval not in self.stack:\n",
    "            self.stack.append(dataval)\n",
    "            return True\n",
    "        else:\n",
    "            return False\n",
    "    \n",
    "    # Use peek to look at the top of the stack\n",
    "    def peek(self):\n",
    "        return self.stack[-1]\n",
    "    \n",
    "    # Use list pop method to remove element from top of the stack\n",
    "    def remove(self):\n",
    "        if len(self.stack)<= 0:\n",
    "            return('No element in the Stack')\n",
    "        else:\n",
    "            return self.stack.pop()"
   ]
  },
  {
   "cell_type": "code",
   "execution_count": 12,
   "id": "young-wichita",
   "metadata": {},
   "outputs": [
    {
     "name": "stdout",
     "output_type": "stream",
     "text": [
      "Last item in original stack: Tue\n",
      "Last item in stack after additional elements: Thu\n",
      "Removed element: Thu\n",
      "Last item in stack after removed element: Wed\n"
     ]
    }
   ],
   "source": [
    "# Create empty stack object and add values\n",
    "AStack = Stack()\n",
    "AStack.add('Mon')\n",
    "AStack.add('Tue')\n",
    "\n",
    "# Peek at values\n",
    "print(f'Last item in original stack: {AStack.peek()}')\n",
    "\n",
    "# Add more values\n",
    "AStack.add('Wed')\n",
    "AStack.add('Thu')\n",
    "print(f'Last item in stack after additional elements: {AStack.peek()}')\n",
    "\n",
    "# remove some values\n",
    "print(f'Removed element: {AStack.remove()}')\n",
    "print(f'Last item in stack after removed element: {AStack.peek()}')"
   ]
  }
 ],
 "metadata": {
  "kernelspec": {
   "display_name": "Python 3",
   "language": "python",
   "name": "python3"
  },
  "language_info": {
   "codemirror_mode": {
    "name": "ipython",
    "version": 3
   },
   "file_extension": ".py",
   "mimetype": "text/x-python",
   "name": "python",
   "nbconvert_exporter": "python",
   "pygments_lexer": "ipython3",
   "version": "3.8.5"
  }
 },
 "nbformat": 4,
 "nbformat_minor": 5
}
