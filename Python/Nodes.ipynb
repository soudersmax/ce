{
 "cells": [
  {
   "cell_type": "markdown",
   "id": "apparent-narrow",
   "metadata": {},
   "source": [
    "# Nodes"
   ]
  },
  {
   "cell_type": "markdown",
   "id": "united-mediterranean",
   "metadata": {},
   "source": [
    "* Created by implementing a class which will hold both data and a pointer to some other object (ie: the next node)\n",
    "* Traversal:\n",
    "    1. Create a variable and assign the first element to it\n",
    "    2. Use a loop and nextval pointer to print out all the node elements in proper sequence"
   ]
  },
  {
   "cell_type": "code",
   "execution_count": 2,
   "id": "simplified-brighton",
   "metadata": {},
   "outputs": [
    {
     "name": "stdout",
     "output_type": "stream",
     "text": [
      "Mon\n",
      "Tue\n",
      "Wed\n",
      "Thu\n"
     ]
    }
   ],
   "source": [
    "# Class definition\n",
    "class daynames:\n",
    "    \n",
    "    #include init function to define the elements upon creation\n",
    "    def __init__(self, dataval=None):\n",
    "        self.dataval = dataval\n",
    "        self.nextval = None\n",
    "\n",
    "# calling daynames('whatever') assigns value to dataval element and nextval element \n",
    "    # is set to None\n",
    "e1 = daynames('Mon')\n",
    "e2 = daynames('Wed')\n",
    "e3 = daynames('Tue')\n",
    "e4 = daynames('Thu')\n",
    "\n",
    "# Set the nextval element of the node to the appropriately ordered dayname\n",
    "e1.nextval = e3\n",
    "e3.nextval = e2\n",
    "e2.nextval = e4\n",
    "\n",
    "# The while loop loops until nextval doesn't exist (ie: is None)\n",
    "thisvalue = e1\n",
    "\n",
    "while thisvalue:\n",
    "    # Print the current dayname's value\n",
    "    print(thisvalue.dataval)\n",
    "    \n",
    "    # 'increment' thisvalue to refer to the nextval element\n",
    "    thisvalue = thisvalue.nextval"
   ]
  }
 ],
 "metadata": {
  "kernelspec": {
   "display_name": "Python 3",
   "language": "python",
   "name": "python3"
  },
  "language_info": {
   "codemirror_mode": {
    "name": "ipython",
    "version": 3
   },
   "file_extension": ".py",
   "mimetype": "text/x-python",
   "name": "python",
   "nbconvert_exporter": "python",
   "pygments_lexer": "ipython3",
   "version": "3.8.5"
  }
 },
 "nbformat": 4,
 "nbformat_minor": 5
}
