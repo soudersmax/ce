{
 "cells": [
  {
   "cell_type": "markdown",
   "id": "formal-celebration",
   "metadata": {},
   "source": [
    "# Heaps\n",
    "* Special type of tree structure with different rules for node values\n",
    "* __Min Heap__ - each parent node is _less than or equal to_ its child node\n",
    "* __Max Heap__ - each parent node is _greater than or equal to_ its child node \n",
    "    * insert/remove node in O(logn)\n",
    "    * get  Max in O(1)\n",
    "* Useful in implementing priority queues where the queue item with higher weight is given more prioritiy in processing"
   ]
  },
  {
   "cell_type": "markdown",
   "id": "fifth-bottle",
   "metadata": {},
   "source": [
    "## heapq Library\n",
    "* Python has a built in library called 'heapq' with relevant functions\n",
    "    * heapify - converts a regular list to a heap. Smallest element gets pushed to index 0, but the data is not necessarily sorted\n",
    "    * heappush - add an element to the heap without altering the current heap\n",
    "    * heappop - return the smallest data element from the heap\n",
    "    * heapreplace - replace the smallest data element with a new value supplied to the function"
   ]
  },
  {
   "cell_type": "code",
   "execution_count": 5,
   "id": "golden-ordinary",
   "metadata": {},
   "outputs": [
    {
     "name": "stdout",
     "output_type": "stream",
     "text": [
      "Initial Heap: [1, 3, 5, 78, 21, 45]\n",
      "Heap with Insertion: [1, 3, 5, 78, 21, 45, 8]\n",
      "Heap with removal: [3, 8, 5, 78, 21, 45]\n",
      "Heap with replacement: [5, 8, 6, 78, 21, 45]\n"
     ]
    }
   ],
   "source": [
    "import heapq\n",
    "\n",
    "# Initial Heap\n",
    "H = [21, 1, 45,  78, 3, 5]\n",
    "heapq.heapify(H)\n",
    "print(f'Initial Heap: {H}')\n",
    "\n",
    "# insert a new element\n",
    "heapq.heappush(H, 8)\n",
    "print(f'Heap with Insertion: {H}')\n",
    "\n",
    "# Remove an element\n",
    "heapq.heappop(H)\n",
    "print(f'Heap with removal: {H}')\n",
    "\n",
    "# Replace\n",
    "heapq.heapreplace(H, 6)\n",
    "print(f'Heap with replacement: {H}')"
   ]
  },
  {
   "cell_type": "markdown",
   "id": "wrapped-exhibition",
   "metadata": {},
   "source": [
    "# Building Heap Classes"
   ]
  },
  {
   "cell_type": "markdown",
   "id": "outer-somewhere",
   "metadata": {},
   "source": [
    "### Inserting into heap (push)\n",
    "* Max Heap:\n",
    "    * Insert item at the end of the array\n",
    "    * Float/Bubble up to correct position \n",
    "        * Compare to parent, if > swap them. If less, keep as is\n",
    "\n",
    "### Removing an element (pop)\n",
    "* Max heap:\n",
    "    * Swap max with value at the end of the array\n",
    "    * Delete max from heap\n",
    "    * Float/Bubble down the item at index 1 to proper position\n",
    "    * Return Max\n",
    "    \n",
    "### Swap\n",
    "* Doesn't require special rules, it's just a swap via indices\n",
    "\n",
    "### Peek\n",
    "* Returns the value at heap[1]"
   ]
  },
  {
   "cell_type": "markdown",
   "id": "ultimate-savage",
   "metadata": {},
   "source": [
    "## MaxHeaps in list form\n",
    "* When displayed in a list, the values won't necessarily be sorted. \n",
    "    * Each value must be greater than those below it __on the tree__ not after it in the list\n",
    "* To locate indices of parent/child nodes STARTING AT 1:\n",
    "    * Parent: given the index of a node, divide by 2 to get the parent index\n",
    "    * Child: given the index of a node, multiply by 2 to get the left node, then add 1 for the right nod\n",
    "    \n",
    "* Example tree:\n",
    "                     25\n",
    "                   /    \\\n",
    "                 16      24\n",
    "                /  \\     /  \\\n",
    "               5   11   19   1\n",
    "              / \\    \\\n",
    "             2   3    5\n",
    "   as list:\n",
    "       25, 16, 24, 5, 11, 19, 1, 2, 3, 5\n",
    "       \n",
    "* Using the list above, looking at 5 on the 3rd level (index starting at 1):\n",
    "    - i = 4\n",
    "    - parent(i) = i / 2 = 2 --> 16\n",
    "    - left(i) = i * 2 = 8 --> 2\n",
    "    - right(i) = (i * 2) + 1 = 9 --> 3\n",
    "    \n",
    "* Zero-index version (see more about this [here](./heap_indices.ipynb)\n",
    "    - i = 3\n",
    "    - p(i) = (3 // 2) = 2 --> 16\n",
    "    - l(i) = (3 * 2) + 1 = 7 --> 2\n",
    "    - r(i) = (3 + 1) * 2 = 8 --> 3"
   ]
  },
  {
   "cell_type": "markdown",
   "id": "medieval-barrel",
   "metadata": {},
   "source": [
    "## MaxHeap class\n",
    "* Always bubbles the highest value to the top so it can be removed instantly\n",
    "* public functions: push, peek, pop\n",
    "* private functions: swap, floatUp, bubbleDown, str"
   ]
  },
  {
   "cell_type": "code",
   "execution_count": 9,
   "id": "continued-warrant",
   "metadata": {},
   "outputs": [],
   "source": [
    "class MaxHeap:\n",
    "    \n",
    "    # Include option of list of items to add (otherwise empty object)\n",
    "    def __init__(self, items=[]):\n",
    "        \n",
    "        super().__init__()\n",
    "        # Put in a 0 as a placeholder, since we start at index 1 for MaxHeap\n",
    "        self.heap = [0]\n",
    "        for item in items:\n",
    "            self.heap.append(item)\n",
    "            # length is always -1 to account for the 0 placeholder\n",
    "            self.__floatUp(len(self.heap) - 1)\n",
    "            \n",
    "    # Add items\n",
    "    def push(self, data):\n",
    "        self.heap.append(data)\n",
    "        self.__floatUp(len(self.heap) - 1)\n",
    "    \n",
    "    # Return top item    \n",
    "    def peek(self):\n",
    "        if self.heap[1]:\n",
    "            return self.heap[1]\n",
    "        else:\n",
    "            return False\n",
    "    \n",
    "    # Remove and return max item\n",
    "    def pop(self):\n",
    "        \n",
    "        if len(self.heap) > 2:\n",
    "            # swap index 1 with last item\n",
    "            self.__swap(1, len(self.heap) - 1)\n",
    "            #pop max\n",
    "            max = self.heap.pop()\n",
    "            # bubble down swapped value\n",
    "            self.__bubbleDown(1)\n",
    "            \n",
    "        # If list has exactly 2 items - one of them is the placeholder zero, so we just return the max\n",
    "        elif len(self.heap) ==2:\n",
    "            max = self.heap.pop()\n",
    "        else:\n",
    "            max = False\n",
    "        return max\n",
    "    \n",
    "    def __swap(self, i, j):\n",
    "        self.heap[i], self.heap[j] = self.heap[j], self.heap[i]\n",
    "        \n",
    "    def __floatUp(self, index):\n",
    "        # store parent index\n",
    "        parent = index//2\n",
    "        # if it's already in the top, no floating up to do\n",
    "        if index <= 1:\n",
    "            return\n",
    "        # swap then float up as appropriate\n",
    "        elif self.heap[index] > self.heap[parent]:\n",
    "            self.__swap(index, parent)\n",
    "            self.__floatUp(parent)\n",
    "    \n",
    "    def __bubbleDown(self, index):\n",
    "        # Store children and set largest at index\n",
    "        left = index * 2\n",
    "        right = index * 2 + 1\n",
    "        largest = index\n",
    "        \n",
    "        # We will swap with the larger of the children\n",
    "        if len(self.heap) > left and self.heap[largest] < self.heap[left]:\n",
    "            largest = left\n",
    "        if len(self.heap) > right and self.heap[largest] < self.heap[right]:\n",
    "            largest = right\n",
    "        \n",
    "        # As long as largest has been set to either right or left child, swap and recurse\n",
    "        if largest != index:\n",
    "            self.__swap(index, largest)\n",
    "            self.__bubbleDown(largest)\n",
    "            \n",
    "    def __str__(self):\n",
    "        return str(self.heap)"
   ]
  },
  {
   "cell_type": "code",
   "execution_count": 8,
   "id": "identified-steel",
   "metadata": {},
   "outputs": [
    {
     "name": "stdout",
     "output_type": "stream",
     "text": [
      "[0, 95, 10, 21, 3]\n",
      "95\n",
      "21\n"
     ]
    }
   ],
   "source": [
    "# Create a heap given a list of items\n",
    "m = MaxHeap([95, 3, 21])\n",
    "\n",
    "# add a new item\n",
    "m.push(10)\n",
    "print(m)\n",
    "print(m.pop())\n",
    "print(m.peek())"
   ]
  }
 ],
 "metadata": {
  "kernelspec": {
   "display_name": "Python 3",
   "language": "python",
   "name": "python3"
  },
  "language_info": {
   "codemirror_mode": {
    "name": "ipython",
    "version": 3
   },
   "file_extension": ".py",
   "mimetype": "text/x-python",
   "name": "python",
   "nbconvert_exporter": "python",
   "pygments_lexer": "ipython3",
   "version": "3.8.5"
  }
 },
 "nbformat": 4,
 "nbformat_minor": 5
}
