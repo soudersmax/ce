{
 "cells": [
  {
   "cell_type": "markdown",
   "id": "perceived-allah",
   "metadata": {},
   "source": [
    "# Dictionaries"
   ]
  },
  {
   "cell_type": "markdown",
   "id": "specialized-cisco",
   "metadata": {},
   "source": [
    "## The Dictionary Data Type\n",
    "* Collection of many values\n",
    "* Keys (index) can be of many different data types\n",
    "* Key-value pair = index and its associated value\n",
    "* __Dictionaries are Hash Tables__ (see below)  "
   ]
  },
  {
   "cell_type": "code",
   "execution_count": 1,
   "id": "sustained-phenomenon",
   "metadata": {},
   "outputs": [
    {
     "name": "stdout",
     "output_type": "stream",
     "text": [
      "dict_keys(['size', 'color', 'disposition'])\n",
      "dict_values(['fat', 'gray', 'loud'])\n"
     ]
    }
   ],
   "source": [
    "myCat = {'size': 'fat', 'color':'gray', 'disposition': 'loud'}\n",
    "myCat['size']\n",
    "\n",
    "print(myCat.keys())\n",
    "print(myCat.values())"
   ]
  },
  {
   "cell_type": "markdown",
   "id": "occupational-reminder",
   "metadata": {},
   "source": [
    "## Dictionaries vs. Lists\n",
    "  * Dictionaries are unordered\n",
    "  * Can't be spliced or traversed in the same ways\n",
    "  * Accessed by using their 'key', which functions essentially like an index"
   ]
  },
  {
   "cell_type": "code",
   "execution_count": 2,
   "id": "dying-yellow",
   "metadata": {},
   "outputs": [
    {
     "name": "stdout",
     "output_type": "stream",
     "text": [
      "False\n",
      "True\n"
     ]
    }
   ],
   "source": [
    "# List storage (ordered)\n",
    "spam = ['cats', 'dogs', 'moose']\n",
    "bacon = ['dogs', 'moose', 'cats']\n",
    "print(spam == bacon)\n",
    "\n",
    "# Dictionary Storage (unordered)\n",
    "eggs = {'name': 'Zophie', 'species': 'cat', 'age': '8'}\n",
    "ham = {'species': 'cat', 'age': '8', 'name': 'Zophie'}\n",
    "print(eggs == ham)"
   ]
  },
  {
   "cell_type": "markdown",
   "id": "downtown-richardson",
   "metadata": {},
   "source": [
    "## The keys(), values(), and items() Methods\n",
    "  * Each of these methods returns a list-like value of keys, values, or both (items).\n",
    "  * List-<i>like</i> because they cannot be modified and do not have an append() method (among other things), ut they CAN be used in for loops"
   ]
  },
  {
   "cell_type": "code",
   "execution_count": 3,
   "id": "opened-hostel",
   "metadata": {
    "scrolled": true
   },
   "outputs": [
    {
     "name": "stdout",
     "output_type": "stream",
     "text": [
      "red\n",
      "42\n",
      "color\n",
      "age\n",
      "('color', 'red')\n",
      "('age', 42)\n",
      "['color', 'age']\n",
      "Key: color Value: red\n",
      "Key: age Value: 42\n"
     ]
    }
   ],
   "source": [
    "# Iterate over values\n",
    "spam = {'color': 'red', 'age': 42}\n",
    "for v in spam.values():\n",
    "    print(v)\n",
    "    \n",
    "# Iterate over keys\n",
    "for k in spam.keys():\n",
    "    print(k)\n",
    "    \n",
    "# Iterate over both\n",
    "for i in spam.items():\n",
    "    print(i)\n",
    "\n",
    "# Note that the output is a tuple  (key, value), which can be passed to the list() function \n",
    "print(list(spam.keys()))\n",
    "\n",
    "# Multiple assignment also works\n",
    "for k, v in spam.items():\n",
    "    print('Key: ' + k + ' Value: ' + str(v))"
   ]
  },
  {
   "cell_type": "markdown",
   "id": "falling-china",
   "metadata": {},
   "source": [
    "## Checking Whether a Key or Value Exists in a Dictionary\n",
    "  * _in_ and _not_ operators work in a dictionary like they do in lists"
   ]
  },
  {
   "cell_type": "code",
   "execution_count": 4,
   "id": "informal-provincial",
   "metadata": {
    "scrolled": true
   },
   "outputs": [
    {
     "name": "stdout",
     "output_type": "stream",
     "text": [
      "True\n",
      "True\n",
      "False\n",
      "True\n",
      "False\n"
     ]
    }
   ],
   "source": [
    "spam = {'name': 'Zophie', 'age' : 7}\n",
    "print('name' in spam.keys())\n",
    "\n",
    "print('Zophie' in spam.values())\n",
    "\n",
    "print('color' in spam.keys())\n",
    "\n",
    "print('color' not in spam.keys())\n",
    "\n",
    "# using only the dictionary name checks KEYS ONLY\n",
    "print('color' in spam)"
   ]
  },
  {
   "cell_type": "markdown",
   "id": "awful-devon",
   "metadata": {},
   "source": [
    "## The get() Method\n",
    "  * Takes 2 arguments: key of the value to retrieve and a return if false value\n",
    "  * If get get is not used and an item is _not_ in a dictionary, returns KeyError"
   ]
  },
  {
   "cell_type": "code",
   "execution_count": 5,
   "id": "pressed-upgrade",
   "metadata": {
    "scrolled": true
   },
   "outputs": [
    {
     "name": "stdout",
     "output_type": "stream",
     "text": [
      "I am bringing 2 cups.\n",
      "I am bringing 0 eggs.\n"
     ]
    },
    {
     "ename": "TypeError",
     "evalue": "'dict' object is not callable",
     "output_type": "error",
     "traceback": [
      "\u001b[0;31m---------------------------------------------------------------------------\u001b[0m",
      "\u001b[0;31mTypeError\u001b[0m                                 Traceback (most recent call last)",
      "\u001b[0;32m<ipython-input-5-5114ed062c09>\u001b[0m in \u001b[0;36m<module>\u001b[0;34m\u001b[0m\n\u001b[1;32m      3\u001b[0m \u001b[0mprint\u001b[0m\u001b[0;34m(\u001b[0m\u001b[0;34m'I am bringing '\u001b[0m \u001b[0;34m+\u001b[0m \u001b[0mstr\u001b[0m\u001b[0;34m(\u001b[0m\u001b[0mpicnicItems\u001b[0m\u001b[0;34m.\u001b[0m\u001b[0mget\u001b[0m\u001b[0;34m(\u001b[0m\u001b[0;34m'eggs'\u001b[0m\u001b[0;34m,\u001b[0m \u001b[0;36m0\u001b[0m\u001b[0;34m)\u001b[0m\u001b[0;34m)\u001b[0m \u001b[0;34m+\u001b[0m \u001b[0;34m' eggs.'\u001b[0m\u001b[0;34m)\u001b[0m\u001b[0;34m\u001b[0m\u001b[0;34m\u001b[0m\u001b[0m\n\u001b[1;32m      4\u001b[0m \u001b[0;34m\u001b[0m\u001b[0m\n\u001b[0;32m----> 5\u001b[0;31m \u001b[0mprint\u001b[0m\u001b[0;34m(\u001b[0m\u001b[0;34m'I am bringing '\u001b[0m \u001b[0;34m+\u001b[0m \u001b[0mstr\u001b[0m\u001b[0;34m(\u001b[0m\u001b[0mpicnicItems\u001b[0m\u001b[0;34m(\u001b[0m\u001b[0;34m'eggs'\u001b[0m\u001b[0;34m,\u001b[0m \u001b[0;36m0\u001b[0m\u001b[0;34m)\u001b[0m\u001b[0;34m)\u001b[0m \u001b[0;34m+\u001b[0m \u001b[0;34m' eggs.'\u001b[0m\u001b[0;34m)\u001b[0m\u001b[0;34m\u001b[0m\u001b[0;34m\u001b[0m\u001b[0m\n\u001b[0m",
      "\u001b[0;31mTypeError\u001b[0m: 'dict' object is not callable"
     ]
    }
   ],
   "source": [
    "picnicItems = {'apples': 5, 'cups' : 2}\n",
    "print('I am bringing ' + str(picnicItems.get('cups', 0)) + ' cups.')\n",
    "print('I am bringing ' + str(picnicItems.get('eggs', 0)) + ' eggs.')\n",
    "\n",
    "print('I am bringing ' + str(picnicItems('eggs', 0)) + ' eggs.')"
   ]
  },
  {
   "cell_type": "markdown",
   "id": "applicable-prison",
   "metadata": {},
   "source": [
    "## The setdefault() Method\n",
    "  * Sets a value in a dictionary for a certain key only if that key doesn't already have a value\n",
    "  * Takes 2 arguments:\n",
    "      1. The key to check for\n",
    "      2. Value to set at that key if it _does not_ exist\n",
    "  * If the key does exist, it returns the key's existing value"
   ]
  },
  {
   "cell_type": "code",
   "execution_count": 6,
   "id": "temporal-visitor",
   "metadata": {},
   "outputs": [
    {
     "name": "stdout",
     "output_type": "stream",
     "text": [
      "black\n",
      "{'name': 'Pooka', 'age': 5, 'color': 'black'}\n",
      "black\n",
      "{'name': 'Pooka', 'age': 5, 'color': 'black'}\n"
     ]
    }
   ],
   "source": [
    "# Without setdefault()\n",
    "spam = {'name': 'Pooka', 'age': 5}\n",
    "if 'color' not in spam:\n",
    "    spam['color'] = 'black'\n",
    "    \n",
    "# Using method\n",
    "print(spam.setdefault('color', 'black'))\n",
    "print(spam)\n",
    "\n",
    "print(spam.setdefault('color', 'white'))\n",
    "print(spam)"
   ]
  },
  {
   "cell_type": "code",
   "execution_count": 7,
   "id": "governing-retail",
   "metadata": {},
   "outputs": [
    {
     "name": "stdout",
     "output_type": "stream",
     "text": [
      "{'I': 1, 't': 6, ' ': 13, 'w': 2, 'a': 4, 's': 3, 'b': 1, 'r': 5, 'i': 6, 'g': 2, 'h': 3, 'c': 3, 'o': 2, 'l': 3, 'd': 3, 'y': 1, 'n': 4, 'A': 1, 'p': 1, ',': 1, 'e': 5, 'k': 2, '.': 1}\n"
     ]
    }
   ],
   "source": [
    "# Application: Word Counter\n",
    "message = 'It was a bright cold day in April, and the clocks were striking thirteen.'\n",
    "count = {}\n",
    "\n",
    "for character in message:\n",
    "    count.setdefault(character, 0)\n",
    "    count[character] = count[character] + 1\n",
    "    \n",
    "print(count)\n",
    "\n",
    "# Each individual character here is looped through and ensures that the key is in the count dictionary (with \n",
    "# default of 0) and changes as necessary"
   ]
  },
  {
   "cell_type": "markdown",
   "id": "reflected-simon",
   "metadata": {},
   "source": [
    "# Pretty Printing\n",
    "  * Requires pprint module import\n",
    "  * pprint.pprint() - prints output in a more legible way. Particularly helpful with nested lists or dicts\n",
    "  * pprint.pformat() - returns output as a string but doesn't print to screen"
   ]
  },
  {
   "cell_type": "code",
   "execution_count": 8,
   "id": "premium-florida",
   "metadata": {},
   "outputs": [
    {
     "name": "stdout",
     "output_type": "stream",
     "text": [
      "{' ': 13,\n",
      " ',': 1,\n",
      " '.': 1,\n",
      " 'A': 1,\n",
      " 'I': 1,\n",
      " 'a': 4,\n",
      " 'b': 1,\n",
      " 'c': 3,\n",
      " 'd': 3,\n",
      " 'e': 5,\n",
      " 'g': 2,\n",
      " 'h': 3,\n",
      " 'i': 6,\n",
      " 'k': 2,\n",
      " 'l': 3,\n",
      " 'n': 4,\n",
      " 'o': 2,\n",
      " 'p': 1,\n",
      " 'r': 5,\n",
      " 's': 3,\n",
      " 't': 6,\n",
      " 'w': 2,\n",
      " 'y': 1}\n"
     ]
    }
   ],
   "source": [
    "import pprint \n",
    "\n",
    "pprint.pprint(count)\n",
    "\n",
    "# Equivalent to: print(pprint.pformat(count))"
   ]
  },
  {
   "cell_type": "markdown",
   "id": "super-mustang",
   "metadata": {},
   "source": [
    "# Using Data Structures to Model Real-World Things"
   ]
  },
  {
   "cell_type": "markdown",
   "id": "short-peoples",
   "metadata": {},
   "source": [
    "## A Tick-Tac-Toe Board\n",
    "  * Using algebraic notation provides standardized identification (in this case, for tic tac toe slots)\n",
    "    * top - L/M/R, mid-L/M/R, low-L/M/R\n",
    "  * Input character options can be stored as a string \n",
    "    * ('x', 'o', '')"
   ]
  },
  {
   "cell_type": "code",
   "execution_count": 9,
   "id": "freelance-schema",
   "metadata": {},
   "outputs": [
    {
     "name": "stdout",
     "output_type": "stream",
     "text": [
      " | | \n",
      "-+-+-\n",
      " | | \n",
      "-+-+-\n",
      " | | \n"
     ]
    }
   ],
   "source": [
    "# Start by creating a blank board and store it as a dictionary\n",
    "theBoard = {'top-L' : ' ', 'top-M': ' ', 'top-R': ' ',\n",
    "            'mid-L': ' ', 'mid-M': ' ', 'mid-R': ' ',\n",
    "            'low-L': ' ', 'low-M': ' ', 'low-R': ' '}\n",
    "\n",
    "# Define a print board function\n",
    "def printBoard(board):\n",
    "    \n",
    "    # Print top row \n",
    "    print(board['top-L'] + '|' + board['top-M'] + '|' + board['top-R'])\n",
    "    print('-+-+-')\n",
    "    \n",
    "    # Print middle row\n",
    "    print(board['mid-L'] + '|' + board['mid-M'] + '|' + board['mid-R'])\n",
    "    print('-+-+-')\n",
    "    \n",
    "    # Print bottom row\n",
    "    print(board['low-L'] + '|' + board['low-M'] + '|' + board['low-R'])\n",
    "\n",
    "printBoard(theBoard)"
   ]
  },
  {
   "cell_type": "markdown",
   "id": "spectacular-criticism",
   "metadata": {},
   "source": [
    "  * Because the pre-set data structure represents the board, the program can model a game, as long as the data structure contains all 9 entries"
   ]
  },
  {
   "cell_type": "code",
   "execution_count": 10,
   "id": "younger-orientation",
   "metadata": {},
   "outputs": [
    {
     "name": "stdout",
     "output_type": "stream",
     "text": [
      " | | \n",
      "-+-+-\n",
      " | | \n",
      "-+-+-\n",
      " | | \n",
      "Turn for X. Move on which space?\n"
     ]
    },
    {
     "ename": "KeyboardInterrupt",
     "evalue": "Interrupted by user",
     "output_type": "error",
     "traceback": [
      "\u001b[0;31m---------------------------------------------------------------------------\u001b[0m",
      "\u001b[0;31mKeyboardInterrupt\u001b[0m                         Traceback (most recent call last)",
      "\u001b[0;32m<ipython-input-10-cb5012cbda4b>\u001b[0m in \u001b[0;36m<module>\u001b[0;34m\u001b[0m\n\u001b[1;32m      5\u001b[0m     \u001b[0mprintBoard\u001b[0m\u001b[0;34m(\u001b[0m\u001b[0mtheBoard\u001b[0m\u001b[0;34m)\u001b[0m\u001b[0;34m\u001b[0m\u001b[0;34m\u001b[0m\u001b[0m\n\u001b[1;32m      6\u001b[0m     \u001b[0mprint\u001b[0m\u001b[0;34m(\u001b[0m\u001b[0;34m'Turn for '\u001b[0m \u001b[0;34m+\u001b[0m \u001b[0mturn\u001b[0m \u001b[0;34m+\u001b[0m \u001b[0;34m'. Move on which space?'\u001b[0m\u001b[0;34m)\u001b[0m\u001b[0;34m\u001b[0m\u001b[0;34m\u001b[0m\u001b[0m\n\u001b[0;32m----> 7\u001b[0;31m     \u001b[0mmove\u001b[0m \u001b[0;34m=\u001b[0m \u001b[0minput\u001b[0m\u001b[0;34m(\u001b[0m\u001b[0;34m)\u001b[0m\u001b[0;34m\u001b[0m\u001b[0;34m\u001b[0m\u001b[0m\n\u001b[0m\u001b[1;32m      8\u001b[0m     \u001b[0mtheBoard\u001b[0m\u001b[0;34m[\u001b[0m\u001b[0mmove\u001b[0m\u001b[0;34m]\u001b[0m \u001b[0;34m=\u001b[0m \u001b[0mturn\u001b[0m\u001b[0;34m\u001b[0m\u001b[0;34m\u001b[0m\u001b[0m\n\u001b[1;32m      9\u001b[0m \u001b[0;34m\u001b[0m\u001b[0m\n",
      "\u001b[0;32m~/.local/lib/python3.8/site-packages/ipykernel/kernelbase.py\u001b[0m in \u001b[0;36mraw_input\u001b[0;34m(self, prompt)\u001b[0m\n\u001b[1;32m    855\u001b[0m                 \u001b[0;34m\"raw_input was called, but this frontend does not support input requests.\"\u001b[0m\u001b[0;34m\u001b[0m\u001b[0;34m\u001b[0m\u001b[0m\n\u001b[1;32m    856\u001b[0m             )\n\u001b[0;32m--> 857\u001b[0;31m         return self._input_request(str(prompt),\n\u001b[0m\u001b[1;32m    858\u001b[0m             \u001b[0mself\u001b[0m\u001b[0;34m.\u001b[0m\u001b[0m_parent_ident\u001b[0m\u001b[0;34m,\u001b[0m\u001b[0;34m\u001b[0m\u001b[0;34m\u001b[0m\u001b[0m\n\u001b[1;32m    859\u001b[0m             \u001b[0mself\u001b[0m\u001b[0;34m.\u001b[0m\u001b[0m_parent_header\u001b[0m\u001b[0;34m,\u001b[0m\u001b[0;34m\u001b[0m\u001b[0;34m\u001b[0m\u001b[0m\n",
      "\u001b[0;32m~/.local/lib/python3.8/site-packages/ipykernel/kernelbase.py\u001b[0m in \u001b[0;36m_input_request\u001b[0;34m(self, prompt, ident, parent, password)\u001b[0m\n\u001b[1;32m    899\u001b[0m             \u001b[0;32mexcept\u001b[0m \u001b[0mKeyboardInterrupt\u001b[0m\u001b[0;34m:\u001b[0m\u001b[0;34m\u001b[0m\u001b[0;34m\u001b[0m\u001b[0m\n\u001b[1;32m    900\u001b[0m                 \u001b[0;31m# re-raise KeyboardInterrupt, to truncate traceback\u001b[0m\u001b[0;34m\u001b[0m\u001b[0;34m\u001b[0m\u001b[0;34m\u001b[0m\u001b[0m\n\u001b[0;32m--> 901\u001b[0;31m                 \u001b[0;32mraise\u001b[0m \u001b[0mKeyboardInterrupt\u001b[0m\u001b[0;34m(\u001b[0m\u001b[0;34m\"Interrupted by user\"\u001b[0m\u001b[0;34m)\u001b[0m \u001b[0;32mfrom\u001b[0m \u001b[0;32mNone\u001b[0m\u001b[0;34m\u001b[0m\u001b[0;34m\u001b[0m\u001b[0m\n\u001b[0m\u001b[1;32m    902\u001b[0m             \u001b[0;32mexcept\u001b[0m \u001b[0mException\u001b[0m \u001b[0;32mas\u001b[0m \u001b[0me\u001b[0m\u001b[0;34m:\u001b[0m\u001b[0;34m\u001b[0m\u001b[0;34m\u001b[0m\u001b[0m\n\u001b[1;32m    903\u001b[0m                 \u001b[0mself\u001b[0m\u001b[0;34m.\u001b[0m\u001b[0mlog\u001b[0m\u001b[0;34m.\u001b[0m\u001b[0mwarning\u001b[0m\u001b[0;34m(\u001b[0m\u001b[0;34m\"Invalid Message:\"\u001b[0m\u001b[0;34m,\u001b[0m \u001b[0mexc_info\u001b[0m\u001b[0;34m=\u001b[0m\u001b[0;32mTrue\u001b[0m\u001b[0;34m)\u001b[0m\u001b[0;34m\u001b[0m\u001b[0;34m\u001b[0m\u001b[0m\n",
      "\u001b[0;31mKeyboardInterrupt\u001b[0m: Interrupted by user"
     ]
    }
   ],
   "source": [
    "# Add code that allows players to input moves \n",
    "turn = 'X'\n",
    "\n",
    "for i in range(9):\n",
    "    printBoard(theBoard)\n",
    "    print('Turn for ' + turn + '. Move on which space?')\n",
    "    move = input()\n",
    "    theBoard[move] = turn\n",
    "    \n",
    "    if turn =='X':\n",
    "        turn = 'O'\n",
    "        \n",
    "    else:\n",
    "        turn = 'X'\n",
    "\n",
    "printBoard(theBoard)\n",
    "\n",
    "# Turn the above code into something that can't be re-written (setdefault()?)\n",
    "# Add code that checks win/tie condition"
   ]
  },
  {
   "cell_type": "markdown",
   "id": "attached-enterprise",
   "metadata": {},
   "source": [
    "## Nested Dictionaries and Lists\n",
    "  * Dictionaries can contain other data structures (like lists or dictionaries)\n",
    "  * This can help model mroe complicated concepts\n",
    "    * ex: listing items someone is responsible for bringing ('Alice':{'apples':5, 'pretzels':12}"
   ]
  },
  {
   "cell_type": "code",
   "execution_count": 1,
   "id": "mental-liberty",
   "metadata": {},
   "outputs": [
    {
     "name": "stdout",
     "output_type": "stream",
     "text": [
      "Number of things being brought:\n",
      " - Apples           7\n",
      " - Cups             3\n",
      " - Cakes            0\n",
      " - Ham Sandwiches   3\n",
      " - Apple Pies       1\n"
     ]
    }
   ],
   "source": [
    "allGuests = {'Alice': {'apples': 5, 'pretzels': 12},\n",
    "             'Bob': {'ham sandwiches': 3, 'apples': 2},\n",
    "             'Carol': {'cups': 3, 'apple pies': 1}}\n",
    "\n",
    "def totalBrought(guests, item):\n",
    "    numBrought = 0\n",
    "    \n",
    "    for k, v in guests.items():\n",
    "        numBrought = numBrought + v.get(item, 0)\n",
    "    \n",
    "    return numBrought\n",
    "    \n",
    "print('Number of things being brought:')\n",
    "print(' - Apples           ' + str(totalBrought(allGuests,'apples')))\n",
    "print(' - Cups             ' + str(totalBrought(allGuests,'cups')))\n",
    "print(' - Cakes            ' + str(totalBrought(allGuests,'cakes')))\n",
    "print(' - Ham Sandwiches   ' + str(totalBrought(allGuests,'ham sandwiches')))\n",
    "print(' - Apple Pies       ' + str(totalBrought(allGuests,'apple pies')))"
   ]
  },
  {
   "cell_type": "markdown",
   "id": "popular-chicago",
   "metadata": {},
   "source": [
    "# Hash Tables"
   ]
  },
  {
   "cell_type": "markdown",
   "id": "illegal-solution",
   "metadata": {},
   "source": [
    "* Data Structure in which the address or the index value of the data element is generated from a hash function\n",
    "* Makes accessing the data faster as the index value behaves as a key for the data value\n",
    "* Keys must satisfy the following requirements:\n",
    "    1. The keys are hashable (ie: generated by hashing function which creates a unique result for each unique value)\n",
    "    2. The order of data elements is not fixed\n",
    "    3. Keys are immutable"
   ]
  }
 ],
 "metadata": {
  "kernelspec": {
   "display_name": "Python 3",
   "language": "python",
   "name": "python3"
  },
  "language_info": {
   "codemirror_mode": {
    "name": "ipython",
    "version": 3
   },
   "file_extension": ".py",
   "mimetype": "text/x-python",
   "name": "python",
   "nbconvert_exporter": "python",
   "pygments_lexer": "ipython3",
   "version": "3.8.5"
  }
 },
 "nbformat": 4,
 "nbformat_minor": 5
}
