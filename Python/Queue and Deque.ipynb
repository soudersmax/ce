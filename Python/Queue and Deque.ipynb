{
 "cells": [
  {
   "cell_type": "markdown",
   "id": "popular-metropolitan",
   "metadata": {},
   "source": [
    "# Queue"
   ]
  },
  {
   "cell_type": "markdown",
   "id": "outdoor-luxembourg",
   "metadata": {},
   "source": [
    "* __F__irst __I__n __F__irst __O__ut - __FIFO__\n",
    "    * Just like an actual queue - items removed from the 'front' of the queue\n",
    "    * Like stacks, can be implemented in python with a list structure\n",
    "* Even though the example uses the insert() method, a value can only ever be added to the end"
   ]
  },
  {
   "cell_type": "code",
   "execution_count": 3,
   "id": "accurate-costs",
   "metadata": {},
   "outputs": [],
   "source": [
    "class Queue:\n",
    "    \n",
    "    # Initialize as a list\n",
    "    def __init__(self):\n",
    "        self.queue = list()\n",
    "    \n",
    "    # add to the queue using the insert method \n",
    "    def add(self, dataval):\n",
    "    \n",
    "        if dataval not in self.queue:\n",
    "            self.queue.insert(0, dataval)\n",
    "            return True\n",
    "        return False\n",
    "    \n",
    "    \n",
    "    def size(self):\n",
    "        return len(self.queue)\n",
    "    \n",
    "    # Remove with pop()\n",
    "    def remove(self):\n",
    "        if len(self.queue) > 0:\n",
    "            return self.queue.pop()\n",
    "        \n",
    "        return('No elements in queue')"
   ]
  },
  {
   "cell_type": "code",
   "execution_count": 5,
   "id": "capital-portal",
   "metadata": {},
   "outputs": [
    {
     "name": "stdout",
     "output_type": "stream",
     "text": [
      "3\n",
      " Removed item: Mon\n",
      "2\n",
      " Removed item: Tue\n",
      "1\n"
     ]
    }
   ],
   "source": [
    "# Create the object and add values\n",
    "TheQueue = Queue()\n",
    "TheQueue.add('Mon')\n",
    "TheQueue.add('Tue')\n",
    "TheQueue.add('Wed')\n",
    "\n",
    "# Show size \n",
    "print(TheQueue.size())\n",
    "\n",
    "print(f' Removed item: {TheQueue.remove()}')\n",
    "print(TheQueue.size())\n",
    "print(f' Removed item: {TheQueue.remove()}')\n",
    "print(TheQueue.size())"
   ]
  },
  {
   "cell_type": "markdown",
   "id": "billion-count",
   "metadata": {},
   "source": [
    "# Deque"
   ]
  },
  {
   "cell_type": "markdown",
   "id": "worthy-blast",
   "metadata": {},
   "source": [
    "* Double ended queue\n",
    "* supports adding and removing elements from either end\n",
    "* This exists in the collections module so we don't have to define our own class"
   ]
  },
  {
   "cell_type": "code",
   "execution_count": 8,
   "id": "perfect-yemen",
   "metadata": {},
   "outputs": [
    {
     "name": "stdout",
     "output_type": "stream",
     "text": [
      "Appended at Right: deque(['Mon', 'Tues', 'Wed', 'Thu'])\n",
      "Appended at Left: deque(['Sun', 'Mon', 'Tues', 'Wed', 'Thu'])\n",
      "Removed from Right: deque(['Sun', 'Mon', 'Tues', 'Wed'])\n",
      "Removed from Left: deque(['Mon', 'Tues', 'Wed'])\n"
     ]
    }
   ],
   "source": [
    "import collections\n",
    "\n",
    "# Create initial object\n",
    "DoubleEnded = collections.deque(['Mon', 'Tues', 'Wed'])\n",
    "\n",
    "# add an item to the end\n",
    "DoubleEnded.append('Thu')\n",
    "print(f'Appended at Right: {DoubleEnded}')\n",
    "\n",
    "# Add an item to beginning\n",
    "DoubleEnded.appendleft('Sun')\n",
    "print(f'Appended at Left: {DoubleEnded}')\n",
    "\n",
    "# Remove from end\n",
    "DoubleEnded.pop()\n",
    "print(f'Removed from Right: {DoubleEnded}')\n",
    "\n",
    "# remove from beginning\n",
    "DoubleEnded.popleft()\n",
    "print(f'Removed from Left: {DoubleEnded}')"
   ]
  }
 ],
 "metadata": {
  "kernelspec": {
   "display_name": "Python 3",
   "language": "python",
   "name": "python3"
  },
  "language_info": {
   "codemirror_mode": {
    "name": "ipython",
    "version": 3
   },
   "file_extension": ".py",
   "mimetype": "text/x-python",
   "name": "python",
   "nbconvert_exporter": "python",
   "pygments_lexer": "ipython3",
   "version": "3.8.5"
  }
 },
 "nbformat": 4,
 "nbformat_minor": 5
}