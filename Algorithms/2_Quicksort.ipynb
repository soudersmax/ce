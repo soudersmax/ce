{
 "cells": [
  {
   "cell_type": "markdown",
   "id": "seventh-shore",
   "metadata": {},
   "source": [
    "# Quicksort\n",
    "1. [Overview](#intro)\n",
    "2. [Partitioning Around a Pivot](#part)\n",
    "3. [Correctness of Quicksort](#proof)\n",
    "4. [Choosing a Good Pivot](#piv)"
   ]
  },
  {
   "cell_type": "markdown",
   "id": "enclosed-consideration",
   "metadata": {},
   "source": [
    "## Overview <a class=\"anchor\" id=\"intro\"></a>"
   ]
  },
  {
   "cell_type": "markdown",
   "id": "sealed-choice",
   "metadata": {},
   "source": [
    "* Key Characteristics\n",
    "    * Works in __O(n log n)__ on average (depends on the pivot)\n",
    "    * Works in-place (ie: minimal extra memory needed)\n",
    "* The sorting Problem (Again)\n",
    "    * __Input__: array of n numbers, unsorted\n",
    "        * [3, 8, 2, 5, 1, 4, 7, 6]\n",
    "    * __Output__: Same numbers, sorted in increasing order\n",
    "    * __Assume__: All array entries are distinct\n",
    "* For an exercise, consider extending QuickSort to handle duplicate entries\n",
    "\n",
    "#### Partitioning Around a Pivot\n",
    "* Partition array around a _pivot element_\n",
    "    * items to the left < pivot element < items to the right\n",
    "* Pick an element of the array (we will just pick the first for this example, more in depth discussion later)\n",
    "    * [3, 8, 2, 5, 1, 4, 7, 6] --> pivot element = 3\n",
    "    * This is the item around which we will sort our values initially. \n",
    "* Rearrange items to fit the pivot rules    \n",
    "    * [2, 1, 3, 6, 7, 4, 5, 8]\n",
    "    * Puts the pivot in its \"rightful position\"\n",
    "    * The general order doesn't need to be correct within the bounds of </> the pivot\n",
    "* Why partition?\n",
    "    * Can be done in linear time (O(n)) and no extra memory required\n",
    "    * Reduces problem size, because now we just have to recursively sort each side\n",
    "\n",
    "#### High-Level Description\n",
    "* Tony Hoore c. 1961\n",
    "* QuickSort(array A, length n)\n",
    "    * If n = 1 return\n",
    "    * p = choosePivot(A, n)\n",
    "    * Partition A around p\n",
    "    * Recursively sort items to the left (first part)\n",
    "    * Recursively sort items to the right (second part)"
   ]
  },
  {
   "cell_type": "markdown",
   "id": "accurate-involvement",
   "metadata": {},
   "source": [
    "## Partitioning Around a Pivot <a class=\"anchor\" id=\"part\"></a>"
   ]
  },
  {
   "cell_type": "markdown",
   "id": "adult-innocent",
   "metadata": {},
   "source": []
  },
  {
   "cell_type": "markdown",
   "id": "union-maldives",
   "metadata": {},
   "source": [
    "## Correctness of Quicksort <a class=\"anchor\" id=\"proof\"></a>"
   ]
  },
  {
   "cell_type": "markdown",
   "id": "fifteen-basic",
   "metadata": {},
   "source": []
  },
  {
   "cell_type": "markdown",
   "id": "political-italian",
   "metadata": {},
   "source": [
    "## Choosing a Good Pivot <a class=\"anchor\" id=\"piv\"></a>"
   ]
  },
  {
   "cell_type": "markdown",
   "id": "saved-closure",
   "metadata": {},
   "source": []
  }
 ],
 "metadata": {
  "kernelspec": {
   "display_name": "Python 3",
   "language": "python",
   "name": "python3"
  },
  "language_info": {
   "codemirror_mode": {
    "name": "ipython",
    "version": 3
   },
   "file_extension": ".py",
   "mimetype": "text/x-python",
   "name": "python",
   "nbconvert_exporter": "python",
   "pygments_lexer": "ipython3",
   "version": "3.8.5"
  }
 },
 "nbformat": 4,
 "nbformat_minor": 5
}
