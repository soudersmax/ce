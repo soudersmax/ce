{
 "cells": [
  {
   "cell_type": "markdown",
   "id": "seventh-shore",
   "metadata": {},
   "source": [
    "# Quicksort\n",
    "1. [Overview](#intro)\n",
    "2. [Partitioning Around a Pivot](#part)\n",
    "3. [Choosing a Good Pivot](#piv)\n",
    "4. [Correctness of Quicksort](#proof)"
   ]
  },
  {
   "cell_type": "markdown",
   "id": "enclosed-consideration",
   "metadata": {},
   "source": [
    "## Overview <a class=\"anchor\" id=\"intro\"></a>"
   ]
  },
  {
   "cell_type": "markdown",
   "id": "sealed-choice",
   "metadata": {},
   "source": [
    "* Key Characteristics\n",
    "    * Works in __O(n log n)__ on average (depends on the pivot)\n",
    "    * Works in-place (ie: minimal extra memory needed)\n",
    "* The sorting Problem (Again)\n",
    "    * __Input__: array of n numbers, unsorted\n",
    "        * [3, 8, 2, 5, 1, 4, 7, 6]\n",
    "    * __Output__: Same numbers, sorted in increasing order\n",
    "    * __Assume__: All array entries are distinct\n",
    "* For an exercise, consider extending QuickSort to handle duplicate entries\n",
    "\n",
    "#### Partitioning Around a Pivot\n",
    "* Partition array around a _pivot element_\n",
    "    * items to the left < pivot element < items to the right\n",
    "* Pick an element of the array (we will just pick the first for this example, more in depth discussion later)\n",
    "    * [3, 8, 2, 5, 1, 4, 7, 6] --> pivot element = 3\n",
    "    * This is the item around which we will sort our values initially. \n",
    "* Rearrange items to fit the pivot rules    \n",
    "    * [2, 1, 3, 6, 7, 4, 5, 8]\n",
    "    * Puts the pivot in its \"rightful position\"\n",
    "    * The general order doesn't need to be correct within the bounds of </> the pivot\n",
    "* Why partition?\n",
    "    * Can be done in linear time (O(n)) and no extra memory required\n",
    "    * Reduces problem size, because now we just have to recursively sort each side\n",
    "\n",
    "#### High-Level Description\n",
    "* Tony Hoore c. 1961\n",
    "* QuickSort(array A, length n)\n",
    "    * If n = 1 return\n",
    "    * p = choosePivot(A, n)\n",
    "    * Partition A around p\n",
    "    * Recursively sort items to the left (first part)\n",
    "    * Recursively sort items to the right (second part)"
   ]
  },
  {
   "cell_type": "markdown",
   "id": "accurate-involvement",
   "metadata": {},
   "source": [
    "## Partitioning Around a Pivot <a class=\"anchor\" id=\"part\"></a>"
   ]
  },
  {
   "cell_type": "markdown",
   "id": "adult-innocent",
   "metadata": {},
   "source": [
    "* If we didn't care about the \"in place\" aspect, it would be very easy to just do it in linear time \n",
    "    * Using O(n) extra memory, it's easy to partition around pivot in O(n) time\n",
    "    * Basically, we could pre-allocate another array of size n and then scan the array, adding elements to the beginning or end of the array based on whether they are >/< the pivot element, and then put the pivot element in the last remaining hole\n",
    "* __Assume__: pivot is the first element in an arary\n",
    "    * If not, just include a pre-pro step that swaps it with the first place element\n",
    "* __High Level Idea__: Single linear scan that keeps track of the part we have looked at and the part we _haven't_ looked at yet. Within the group we've seen, we'll split further according to elements </> pivot element\n",
    "<img src =\"resources/quick_pivot.PNG\">\n",
    "\n",
    "#### Example\n",
    "* j = boundary between what we've looked at and haven't --> inceremented each iteration\n",
    "* i = boundary between < p and > p\n",
    "* ??? = \"unpartitioned\" ie: not looked at\n",
    "<img src=\"resources/part_template.PNG\">\n",
    "* Starting array:\n",
    "<img src = \"resources/part_example1.PNG\"> \n",
    "* First Iteration: i remains in the same place, because nothing less than the pivot exists in the 'looked at' group. Because nothing needs to be swapped, it's already a \"partitioned subarray\"\n",
    "<img src=\"resources/part_example2.PNG\">\n",
    "* Second iteration: The 2 and the 8 will swap places with i incrementing to remain in the correct location, separating values greater than and less than the partition value\n",
    "<img src=\"resources/part_example3.PNG\">\n",
    "* Third iteration: The 5 is already on the correct side of i, so no swaps are necessary\n",
    "<img src=\"resources/part_example4.PNG\">\n",
    "* 4th Iteration: The 1 swaps with the 8, the leftmost array entry larger than the pivot\n",
    "<img src=\"resources/part_example5.PNG\">\n",
    "* Fast forward to the end, j basically falls off, i is still after the right most item that is less than the pivot\n",
    "<img src =\"resources/part_example6.PNG\">\n",
    "* Now we need to put the pivot into it's place (ie: at i), and the array is now partitioned\n",
    "<img src=\"resources/part_example8.PNG\">\n",
    "\n",
    "#### Pseudocode\n",
    "* There will be an input array A and the subroutine will be passed two array indices representing the left and right boundary of the subarray. \n",
    "    * i and j are initialzed to the same value\n",
    "    * For loop traverses from j to the right most index of the 'seen' group\n",
    "        * If the item is greater than p, no swaps need to happen\n",
    "        * if the item is less than p, swap the item with the element at A[i], the leftmost 'greater than' element, and increment i\n",
    "    * Once it's fully partitioned, put the pivot where it belongs\n",
    "* Don't forget the assumptions and key ideas:\n",
    "    1. The partition is the first element in the array\n",
    "    2. i separates the < p and > p elements\n",
    "    3. j separates the 'seen' from the 'unseen'\n",
    "* Partition(A, l, r):\n",
    "    * p= A[l]\n",
    "    * i = l + 1\n",
    "    * For j = l + 1 to r:\n",
    "        * if A[j] > p, do nothing\n",
    "        * if A[j] < p:\n",
    "            * swap A[j] and A[i]\n",
    "            * i += 1\n",
    "    * Swap A[l] and A[i - 1]\n",
    "\n",
    "#### Running Time of this Subroutine\n",
    "* O(n) where n i= r - l + 1 is the length of the input subarray\n",
    "* O(1) work per array entry, because it's just a few comparisons and a swap\n",
    "* In place - we don't allocate some second copy of an array to populate\n",
    "\n",
    "#### Correctness of the Subroutine\n",
    "* __Claim__: the for loop maintains the invariants:\n",
    "    * A[l+1], ...,A[i-1] < pivot\n",
    "    * A[i], ..., A[j-i] > pivot\n",
    "* __Consequence__: at the end of the for loop, all has been seen so everything in the array has been organized in the appropriate manner. All that's left is to put the pivot where it belongs (A[i])"
   ]
  },
  {
   "cell_type": "markdown",
   "id": "political-italian",
   "metadata": {},
   "source": [
    "## Choosing a Good Pivot <a class=\"anchor\" id=\"piv\"></a>"
   ]
  },
  {
   "cell_type": "markdown",
   "id": "saved-closure",
   "metadata": {},
   "source": [
    "* The running time of the Quicksort is entirely dependent on the _quality_ of the pivot\n",
    "    * \"Good quality\" - splits the array into roughly two equal sized subrproblems\n",
    "    * \"Bad quality\" - very unbalanced subproblems\n",
    "* ___Quiz Question___: Suppose we implement QuickSort so that the ChoosePivot always selects the first element of the array. What is the running time of this algorithm on an input array that is already sorted? __Theta(n<sup>2</sup>)__\n",
    "    * Recall the general QuickSort Algorithm:\n",
    "        * Partition Subroutine\n",
    "        * 2 recursive calls to the < p and > p subarrays\n",
    "    * Thus, if the array is already sorted and the pivot is the first element, then one of these calls is just vacuous, and the second recursive call happens on a problem that has a size of only 1 less than the original array\n",
    "        * This will happen over and over and over again, on subarrays with length n-1 each time until we hit the base case of n = 1\n",
    "    * The partition subroutine looks at each element at least once and will run in each level of recursion on those smaller subarrays --> T >= n + (n-1) + (n-2) + (n-3) + ... + 1 = n<sup>2</sup>\n",
    "* ___Quiz Question___: Suppose we run a QuickSort on some input and every recursive call chooses the median element of its subarray as its pivot. What's the running time in this case? Theta(n log n)\n",
    "    * This basically exactly matches the Merge Sort recurrence\n",
    "        * Work inside recursive calls: If the median is chosen every time, the input array will be n/2 at each level of recursion --> log(n)\n",
    "        * Work outside: The Partition subroutine runs in linear time (explained below) \n",
    "    * Total T(n) <= 2T(n/s) + Theta(n) --> T(n)--> Theta(n log n)\n",
    "* Given these upper and lower bounds, the question becomes _how do we choose pivots that keep us at or close to n log n time?_\n",
    "\n",
    "#### Random Pivots\n",
    "* For every time we recursively call QuickSort and we are passed some subarray of length k, we will randomly choose each one with an equal probablity (1/k)\n",
    "* Hope: a random pivot will be \"pretty good\" or \"good enough\"\n",
    "* __Intuition__: \n",
    "    1. If we always get a 25-75 split, good enough for O(n log n) running time\n",
    "        * This can be proven via a recursion tree, but it's tougher than our general Master Method cases because it's unbalanced\n",
    "    2. Half of the  lements will give us this \"good enough\" split\n",
    "        * Ex: In an array of integers 1 - 100, the pivots that will give us 25-75 split or better is any number between 26-75 (inclusive), which is a full half of the items in the array\n",
    "* If we are getting \"good enough\" half of the time, an average running time of n log n might be reachable\n",
    "\n",
    "#### Average Running Time of QuickSort\n",
    "* __QuickSort Theorem__: for every input array of length n, the average running time of the quicksort implemented with random pivots is O(n log n)\n",
    "    * _Note: No assumptions about data, it holds for every input_\n",
    "    * \"Average\" comes from the random choices made by the algorithm\n",
    ">For _every_ possible input array, while the running time does fluctuate between an upper bound of n<sup>2</sup> and a lower bound of n log n, the best case dominates. More often than not, you will see n log n behavior"
   ]
  },
  {
   "cell_type": "markdown",
   "id": "owned-stock",
   "metadata": {},
   "source": [
    "## Correctness of QuickSort <a class=\"anchor\" id=\"proof\"></a>"
   ]
  },
  {
   "cell_type": "markdown",
   "id": "dedicated-giving",
   "metadata": {},
   "source": [
    "Optional - return to this"
   ]
  }
 ],
 "metadata": {
  "kernelspec": {
   "display_name": "Python 3",
   "language": "python",
   "name": "python3"
  },
  "language_info": {
   "codemirror_mode": {
    "name": "ipython",
    "version": 3
   },
   "file_extension": ".py",
   "mimetype": "text/x-python",
   "name": "python",
   "nbconvert_exporter": "python",
   "pygments_lexer": "ipython3",
   "version": "3.8.5"
  }
 },
 "nbformat": 4,
 "nbformat_minor": 5
}
