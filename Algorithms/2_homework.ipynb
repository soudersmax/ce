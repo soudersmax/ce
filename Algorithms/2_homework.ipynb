{
 "cells": [
  {
   "cell_type": "markdown",
   "id": "adequate-liberty",
   "metadata": {},
   "source": [
    "# Homework 2"
   ]
  },
  {
   "cell_type": "markdown",
   "id": "happy-discipline",
   "metadata": {},
   "source": [
    "* Suppose the running time of an algorithm is governed by the recurrence _T(n) = 9 * T(n/3) + n<sup>2</sup>._ What's the overall asymptotic running time (ie: the value of T(n))? ___O(n<sup>2</sup>logn)___\n",
    "    * a = 9\n",
    "    * b = 3\n",
    "    * d = 2\n",
    "    * Case 1--> T(n) = O(n<sup>d</sup>logn)) --> O(n<sup>2</sup>logn)\n",
    "\n",
    "* Consider the following pseudocode for calculating a<sup>b</sup> where a and b are positive integers:\n",
    "    * FastPower(A,b):\n",
    "        * if b = 1, return a\n",
    "        * else:\n",
    "            * c = a * a\n",
    "            * ans = FastPower(c, [b/2])\n",
    "            * if b is odd, return a * ans\n",
    "            * else: return ans\n",
    "    * Here, [x] denotes the floor function, that is, the largest integer <= x\n",
    "    * Assuming that you use a calculator that supports multiplication and division in constant time, what is the overall running time as a function of b? \n",
    "    * ___Theta(log(b))___\n",
    "    * a = 1 (recursive call)\n",
    "    * b = 2 (b/2 in the recursive call)\n",
    "    * d = 0 (only constant operations after recursion)\n",
    "    * Case 1--> T(n) = O(n<sup>d</sup>logn))\n",
    "        * = O(b<sup>0</sup>logb) = O(logb)\n",
    "\n",
    "* Let 0 < a < 0,5 be some constant (independent of input array length n). Recall the partition subroutine employed by the QuickSort Algorithm. What is the probability that, with a randomly chosen pivot element, the partiition subroutine produces a split in which the size of the smaller of the two subarrays is >= a * size of the original input? ___1 - (2*a)___\n",
    "    \n",
    "* Now assume that you achieve the approximately balanced splits above in every recursive call -- that is assume that whenever a recursive call is given an array of length k, then each of its two recursive calls is apassed a subarray with length between a(k) and (1-a)k, where a is a fixed constant strictly between 0 and 0.5. How many recursive calls can occur before you hit the base case? Equivalently, which levels of the recursion tree can contain leaves? Express your answer as a range of possible numbers d from min to max number of calls that might be needed.___- (log(n)/log(a)) <= d <= - (log(n)/(log(1-a))___\n",
    "    \n",
    "* Define the recursion depth of QuickSort to be the maximum number of successive recursive calls before it hits the base case -- equivalently the number of the last level of the corresponding recursion tree. Note that the recursion depth is a random variable which depends on which pivots get chosen. What is the minimum-possible and maximum-possible recursion depth of quicksort, respectively? ___Min: Theta(log(n)), Max: Theta(n)___\n",
    "    * The best case is when the algorithm always picks the median as a pivot, in which case the recursion is eddentially identical to that in Merge Sort\n",
    "    * Worst case - the min or the max is always chosen as the pivot, so it's linear.     "
   ]
  },
  {
   "cell_type": "markdown",
   "id": "shaped-redhead",
   "metadata": {},
   "source": [
    "# Optional  Theory Problems"
   ]
  },
  {
   "cell_type": "markdown",
   "id": "presidential-bearing",
   "metadata": {},
   "source": [
    "1. Give the best upper bound that you can on the solution to the following recurrence: T(1)=1 and T(n)≤T([n−−√])+1 for n>1. (Here [x] denotes the \"floor\" function, which rounds down to the nearest integer.)\n",
    "\n",
    "2. You are given an n by n grid of distinct numbers. A number is a local minimum if it is smaller than all of its neighbors. (A neighbor of a number is one immediately above, below, to the left, or the right. Most numbers have four neighbors; numbers on the side have three; the four corners have two.) Use the divide-and-conquer algorithm design paradigm to compute a local minimum with only O(n) comparisons between pairs of numbers. (Note: since there are n2 numbers in the input, you cannot afford to look at all of them. Hint: Think about what types of recurrences would give you the desired upper bound.)"
   ]
  }
 ],
 "metadata": {
  "kernelspec": {
   "display_name": "Python 3",
   "language": "python",
   "name": "python3"
  },
  "language_info": {
   "codemirror_mode": {
    "name": "ipython",
    "version": 3
   },
   "file_extension": ".py",
   "mimetype": "text/x-python",
   "name": "python",
   "nbconvert_exporter": "python",
   "pygments_lexer": "ipython3",
   "version": "3.8.5"
  }
 },
 "nbformat": 4,
 "nbformat_minor": 5
}
