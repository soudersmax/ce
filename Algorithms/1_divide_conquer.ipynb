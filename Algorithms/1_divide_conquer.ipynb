{
 "cells": [
  {
   "cell_type": "markdown",
   "id": "coordinated-hospital",
   "metadata": {},
   "source": [
    "# Divide and Conquer \n",
    "\n",
    "* [O(n log n) Algorithm for Counting Inversions](#inv)\n",
    "    * [Inversions](#inv1)\n",
    "    * [Divide and Conquer](#inv2)\n",
    "    * [Count Split Inversions Subroutine and Merge Sort](#inv3)\n",
    "    * [Analysis](#inv4)\n",
    "    * [Solution: Counting Split Inversions in Linear Time](#inv5)\n",
    "* [Strassen's Subcubic Matrix Multiplication Algorithm](#mat)\n",
    "    * [Applying Divide and Conquer](#mat1)\n",
    "    * [Recursive Algorithm #1](#mat2)\n",
    "    * [Strassen's Algorithm (1969)](#mat3)\n",
    "* [O(n log n) Algorithm for Closest Pairs](#pair)\n",
    "    * [Pseudocode](#pair1)\n",
    "    * [ClosestSplitPair(P<sub>x</sub>P<sub>y</sub>) Pseudocode](#pair2)\n",
    "* [Q&A](#qa)"
   ]
  },
  {
   "cell_type": "markdown",
   "id": "existing-zoning",
   "metadata": {},
   "source": [
    "## Main Idea\n",
    "1. Divide the problem into smaller subproblems (sometimes conceptually,  sometimes literally)\n",
    "2. Conquer the subproblems via recursion\n",
    "3. Combine subproblem solutions into one for the original problem"
   ]
  },
  {
   "cell_type": "markdown",
   "id": "dimensional-martial",
   "metadata": {},
   "source": [
    "## O(n log n) Algorithm for Counting Inversions <a class=\"anchor\" id =\"inv\"></a>"
   ]
  },
  {
   "cell_type": "markdown",
   "id": "controlling-brief",
   "metadata": {},
   "source": [
    "* __Inpuut__: Array A containing the numbers 1, 2, 3, ... in some arbitrary order\n",
    "* __Output__: number of inversions --> number of pairs (i, j) of array indices with i < j and A[i] > A[j]\n",
    "    * ie: a fully sorted series of numbers would not have any inversions, because all items are less than those that follow it"
   ]
  },
  {
   "cell_type": "markdown",
   "id": "turkish-german",
   "metadata": {},
   "source": [
    "### Inversions <a class=\"anchor\" id =\"inv1\"></a>"
   ]
  },
  {
   "cell_type": "markdown",
   "id": "cosmetic-scale",
   "metadata": {},
   "source": [
    "* A = (1, 3, 5 ,2, 4, 6)\n",
    "* Inversions: \n",
    "    * (3, 2) --> (A[2], A[4])\n",
    "    * (5, 2) --> (A[3], A[4])\n",
    "    * (5, 4) --> (A[3], A[5])\n",
    "<img src =\"resources/inversions.PNG\">  \n",
    "* Motivation - Numerical similarity measure that quantifies how close 2 lists are to each other \n",
    "    * In general, the more inversions a list has, the more different it would be \n",
    "* Collaborative filtering - process of filtering for information or patterns using techniques involving collaboration among multiple agents, viewpoints, data sources, etc.\n",
    "    * Method of making automatic predictions about the interests of a user by collecting preferences or taste information from many users\n",
    "* ___In an array of size n, the largest number of inversions is 'N choose 2' or (n(n-1)/2)___\n",
    "    * The worst case is when the array is in backwards order and every single pair is inverted \n",
    "    * _N choose 2 evaluates to a quadratic expression_ \n",
    "* __Brute-force__ - set up a double for loop, one which goes through i and one which goes through j > i, checking each pair ij individually for inversion, and then add it to our running count. Return final count at the end --> __O(n<sup>2</sup>) time__ "
   ]
  },
  {
   "cell_type": "markdown",
   "id": "desperate-concern",
   "metadata": {},
   "source": [
    "### Divide and Conquer <a class=\"anchor\" id =\"inv2\"></a>"
   ]
  },
  {
   "cell_type": "markdown",
   "id": "regular-niger",
   "metadata": {},
   "source": [
    "* Classify inversions into 3 types\n",
    "    1. Left inversion - both array indices in the inversion pair <= n/2\n",
    "        * Fully counted by recursing on the left half of an array\n",
    "    2. Right inversion - both array indices in the inversion pair > n/2\n",
    "        * Fully counted by recursing on the right half of an array\n",
    "    3. Split inversion - smaller index is <= n/2 and the larger one is > n/2\n",
    "        * Needs its own subroutine/cleanup after recursion\n",
    "* __General Concept__: \n",
    "    * Function Count(array A, length n):\n",
    "        1. Base case: if n = 1, return 0\n",
    "        2. x = count(1st half of A, n/2)\n",
    "        3. y = count(2nd half of A, n/2)\n",
    "        4. z = countSplitInv(A, n)\n",
    "        5. Return x + y + z\n",
    "* __Goal__ - implement CountSplitInv in linear(O(n)) time, to making the total process run in O(n log n)\n",
    "    * Just like merge sort - 2 recursive calls on a problem of n/2 and outside of those two calls, only linear work"
   ]
  },
  {
   "cell_type": "markdown",
   "id": "recent-nigeria",
   "metadata": {},
   "source": [
    "### Count Split Inversions Subroutine + Merge Sort <a class=\"anchor\" id =\"inv3\"></a>"
   ]
  },
  {
   "cell_type": "markdown",
   "id": "owned-position",
   "metadata": {},
   "source": [
    "* Worst case, there could be a quadratic number of split inversions that we want to count in linear time\n",
    "* Piggy-back on merge sort - Merge subroutine will actually naturally uncover split inversions _in linear time_\n",
    "    * Implement a sorting algorithm in our recursive calls\n",
    "* __Better Plan for Counting Inversions__: \n",
    "    * Function sortCount(A, n):\n",
    "        1. Same base case: if n = 1, return 0\n",
    "        2. B, x = sortCount(first half of A, n/2) \n",
    "        3. C, y = sortCount(second half of A, n/2) \n",
    "        4. D, z = mergeCountSplitInv(A, n) \n",
    "        5. return x + y + z \n",
    "<hr>\n",
    "    * Merge Pseudocode\n",
    "        * D = output [length = n]\n",
    "        * B = 1st sorted array [n/2]\n",
    "        * C = 2nd sorted array[n/2]\n",
    "        * i = 1 --> pointer for B\n",
    "        * j = 1 --> pointer for C\n",
    "        * k --> index for D\n",
    "        ```\n",
    "            for k = 1 to n:\n",
    "                if B(i) < C(j)\n",
    "                    D(k) = B(i)\n",
    "                    i++\n",
    "                else [C(j) < B(i)]\n",
    "                    D(k) = c(j)\n",
    "                    j++\n",
    "             end\n",
    "           ```\n",
    "<hr>\n",
    "* __Array with no split inversions__\n",
    "    * Because all elements in B will be less than all elements in C, the merge is unusually quick - it just copies B into D and then concatenates C\n",
    "    * _This suggests that copying elements from the second subarray C has something to do with the number of split inversions in the original array_\n",
    "* __Array with _only_ split inversions__\n",
    "    * A = (1, 3, 5, 2, 4, 6)\n",
    "    * B = (1, 3, 5) and C = (2, 4, 6)\n",
    "    * D = empty output array\n",
    "    1. Copy the first item from B (1) to D, i ++\n",
    "    2. Copy the first element from C (2), which is next in sort order\n",
    "        * i++\n",
    "        * When an item from the second (right) array is copied before the first (left) array has been exhausted, any items remaining in the left array indicate inversions. Here, they are (3, 2) and (5, 2)\n",
    "    3. Copy the next item in sort order - it's from the first array, i ++\n",
    "    4. Copy the next item in sort order - it's from the second array\n",
    "        * There is still an item in the left array, so another inversion is exposed (5, 4)\n",
    "    5. Continue/End  "
   ]
  },
  {
   "cell_type": "markdown",
   "id": "closing-ballet",
   "metadata": {},
   "source": [
    "### Analysis <a class=\"anchor\" id =\"inv4\"></a>"
   ]
  },
  {
   "cell_type": "markdown",
   "id": "macro-mercy",
   "metadata": {},
   "source": [
    "* __General Claim__: The split inversions that involve an element y of the second array C are precisely those elements remaining in the first array B when y is copied over to the output array. \n",
    "* __Proof__: Let x be an element of the first array B\n",
    "    1. If x is copied to output before y, then x < y => there is no inversion involving x and y\n",
    "    2. If y is copied over before x, then y < x. By nature of being in right array, y's index _must_ be greater than that of the item it precedes => split inversion involving x (and any other elements remaining in B) and y"
   ]
  },
  {
   "cell_type": "markdown",
   "id": "stopped-lodging",
   "metadata": {},
   "source": [
    "### Solution: Counting Split Inversions in Linear Time <a class=\"anchor\" id =\"inv5\"></a>"
   ]
  },
  {
   "cell_type": "markdown",
   "id": "circular-delhi",
   "metadata": {},
   "source": [
    "* Really just augmented merge sort code\n",
    "    * When an element of C gets copied to output D, increment the running count of split inversions by the number of elements remaining in B (n/2 - i)\n",
    "* __Pseudocode__: \n",
    "    * D = output [length = n]\n",
    "    * B = 1st sorted array [n/2]\n",
    "    * C = 2nd sorted array[n/2]\n",
    "    * i = 1 --> pointer for B\n",
    "    * j = 1 --> pointer for C\n",
    "    * k --> index for D\n",
    "    * count --> running count of split inversions\n",
    "     ```\n",
    "        for k = 1 to n:\n",
    "            if B(i) < C(j)\n",
    "                D(k) = B(i)\n",
    "                i++\n",
    "            else [C(j) < B(i)]\n",
    "                D(k) = C(j)\n",
    "                count += (n/2) - i\n",
    "                j++             \n",
    "        end\n",
    "       ```\n",
    "* __Running Time__:\n",
    "    * Split Inversions Subroutine\n",
    "        * Merge subroutine is known to be linear time\n",
    "        * The only additional step here is the incrementation of the counter, which is constant time\n",
    "            * Constant C1 so that the merge step takes at most C1n steps\n",
    "            * Constants C2 so that the rest of the work is in those C2n steps\n",
    "            * added together we get at most (C1 + C2)n steps --> still O(n) because C1/2 are constants\n",
    "        * Results in O(n) + O(n) = O(n) (as long as n!= 2)\n",
    "    * Overall\n",
    "        * 2 recursive calls on n/2 --> log n\n",
    "        * linear work outside of the recursive calls --> O(n)\n",
    "        * Results in O(n log n)"
   ]
  },
  {
   "cell_type": "markdown",
   "id": "matched-vegetation",
   "metadata": {},
   "source": [
    "## Strassen's Subcubic Matrix Multiplication Algorithm <a class=\"anchor\" id =\"mat\"></a>"
   ]
  },
  {
   "cell_type": "markdown",
   "id": "intense-dispatch",
   "metadata": {},
   "source": [
    "* __Problem__: How do you multiply 2 n by n (square) matrices X and Y, producing a new n by n  (square) matrix Z?\n",
    "    * where Z(ij) = dot product of the i row of x and j column of Y\n",
    "    * _Note: normally, n denotes input size, but here is denotes the dimensions of the matrices. Each matrix is n by n, containing n<sup>2</sup> entries_\n",
    "    <img src=\"resources/matrix_multi_formula.PNG\">\n",
    "    * Because we have to read in an input of n<sup>2</sup> and produce an output of n<sup>2</sup>, the best case is n<sup>2</sup> time\n",
    "    * Example:\n",
    "    <img src= \"resources/matrix_multi_ex.PNG\">\n",
    "* Iterative method for obtaining the dot product is O(n<sup>3</sup>)\n",
    "    * Triple for loop which computes each entry of the output array separately using the dot product\n",
    "    * For each iteration of the outer loop, the total number of runs in the inner loops would be equivalent to n, so you end up with n * n * n  or O(n<sup>3</sup>)"
   ]
  },
  {
   "cell_type": "markdown",
   "id": "urban-portugal",
   "metadata": {},
   "source": [
    "### Applying Divide and Conquer  <a class=\"anchor\" id =\"mat1\"></a>"
   ]
  },
  {
   "cell_type": "markdown",
   "id": "announced-lease",
   "metadata": {},
   "source": [
    "* __General Idea__:\n",
    "    1. Divide square matrices X and Y into quadrants/blocks\n",
    "        * Where A-H are all n/2 by n/2 matrices\n",
    "    2. Dot Product using the quadrant names\n",
    "       <img src =\"resources/dotprod.PNG\">\n",
    "* This is essentially the same thing we did in the integer multiplication exercise --> break it into smaller pieces, take the expansions, and observe how that expansion could be written in terms of n/2 digit numbers."
   ]
  },
  {
   "cell_type": "markdown",
   "id": "generous-temple",
   "metadata": {},
   "source": [
    "### Recursive Algorithm #1 <a class=\"anchor\" id =\"mat2\"></a>"
   ]
  },
  {
   "cell_type": "markdown",
   "id": "interstate-neighbor",
   "metadata": {},
   "source": [
    "1. Recursively compute the 8 necessary products (ae, bg, af, bh, ce, dg, cf, dh)\n",
    "2. do the necessary additions (4) --> O(n<sup>2</sup>)\n",
    "* __Fun Fact__: In a recursive algorithm where you do 8 recursive calls each on a problem withdimensions half as much as what you started with and then do quadratic time outside, the time will be cubic."
   ]
  },
  {
   "cell_type": "markdown",
   "id": "constitutional-elevation",
   "metadata": {},
   "source": [
    "### Strassen's Algorithm (1969) <a class=\"anchor\" id =\"mat3\"></a>"
   ]
  },
  {
   "cell_type": "markdown",
   "id": "appropriate-syntax",
   "metadata": {},
   "source": [
    "1. Recursively compute only _7_ (cleverly chosen) products\n",
    "2. Do the necessary (clever) additions and subtractions --> still O(n<sup></sup>) at this step\n",
    "* __Fun Fact__: Shaving off one recursive call changes this from a cubic process to SUBCUBIC! (see Master Method notes)"
   ]
  },
  {
   "cell_type": "markdown",
   "id": "sharing-alexander",
   "metadata": {},
   "source": [
    "#### The Details"
   ]
  },
  {
   "cell_type": "markdown",
   "id": "extensive-ambassador",
   "metadata": {},
   "source": [
    "<img src = \"resources/dotprod.PNG\">\n",
    "\n",
    "* The 7 products:\n",
    "    1. p1 = a(f - h)\n",
    "    2. p2 = (a + b)h\n",
    "    3. p3 = (c + d)e\n",
    "    4. p4 = d(g - e)\n",
    "    5. p5 = (a + d)(e + h)\n",
    "    6. p6 = (b - d)(g + h)\n",
    "    7. p7 = (a - c)(e + f)\n",
    "* __Claim__: The ouput matrix Z from X * Y can be found using these 7 products in the following manner, separated by quadrants:\n",
    "p5 + p4 - P2 + p6 || p1 + p2\n",
    "p3 + p4           || p1 + p5 - p3 - p7\n",
    "* __Proof__: Just looking at upper left corner (ae + bg)\n",
    "    1. Expand the relevant products (parenthesis n/a to arithmetic)\n",
    "        * (ae + ah + de + dh) + (dg - de) - (ha + hb) + (bg + bh - dg - dh)\n",
    "    2. Look for cancellations\n",
    "        * +/- de\n",
    "        * +/- dh\n",
    "        * +/- dg\n",
    "        * +/- ah\n",
    "        * +/- bh\n",
    "    3. Only ae +  bg remaining, which is exactly what is in our Top LH corner"
   ]
  },
  {
   "cell_type": "markdown",
   "id": "generous-pasta",
   "metadata": {},
   "source": [
    "## O(n log n) Algorithm for Closest Pair <a class=\"anchor\" id =\"pair\"></a>"
   ]
  },
  {
   "cell_type": "markdown",
   "id": "daily-baking",
   "metadata": {},
   "source": [
    "* __Input__: a set p = {p<sub>1</sub>, ..., p<sub>n</sub>} of n points in the plane \n",
    "* __Notation__: We are talking about the _Euclidian Distance_\n",
    "    <img src=\"resources/dist.PNG\">\n",
    "* __Output__: a pair p*, q* in P that minimizes d(p,q) over p,q in the set P\n",
    "* __Initial Observations__: \n",
    "    * Assume all points have distinct x and y coord (for convenience)\n",
    "    * Just like in the inversions problem, this can be solved by brute-force with nested for loops (O(n<sup>2</sup>))\n",
    "    * 1-D version (a line)\n",
    "        * Sort points (O(n log n))\n",
    "        * Return closest pair of adjacent points (o(n))"
   ]
  },
  {
   "cell_type": "markdown",
   "id": "dress-effort",
   "metadata": {},
   "source": [
    "#### High Level Approach "
   ]
  },
  {
   "cell_type": "markdown",
   "id": "distributed-parker",
   "metadata": {},
   "source": [
    "1. Make 2 copies of the points for sorting\n",
    "    * (Px) - set of points sorted by x-coord\n",
    "    * (Py) - set of points sorted by y-coord\n",
    "    * O(n log n)\n",
    "<img src=\"resources/pair.PNG\">\n",
    "2. Divide and Conquer"
   ]
  },
  {
   "cell_type": "markdown",
   "id": "union-fellow",
   "metadata": {},
   "source": [
    "### Pseudocode <a class=\"anchor\" id=\"pair1\"></a>"
   ]
  },
  {
   "cell_type": "markdown",
   "id": "adolescent-contents",
   "metadata": {},
   "source": [
    "* ClosestPair(P<sub>x</sub>,P<sub>y</sub>)\n",
    "    * Omit the base case but it would be essentially brute force at a very small n\n",
    "    1. _let Q = left half of P, R = right half of P_ --> (O(n log n))\n",
    "        * Form Qx, Qy, Rx, Ry by linear scan --> Copies of Q, R sorted by x and y \n",
    "    2. Recursive calls --> O(log n)\n",
    "        * `(p1, q1) = ClosestPair(Qx, Qy)`  \n",
    "        * `(p2, q2) = ClosestPair(Rx, Ry)`  \n",
    "    3. ClosestSplitPair Subroutine --> Goal is O(n) to keep us at O(n log n)\n",
    "        * If the closest pair is split between the two sides, then the recursive calls won't find it\n",
    "        * `(p3, q3) = ClosestSplitPair(Px, Py)`\n",
    "    4. Return best of (p1, q1), (p2, q2), (p3, q3)\n",
    "\n",
    "* __Key Idea__ - Only need to bother computing the closest split pair in the \"unlucky case\" where its distance is less than the result of the first and second recursive calls\n",
    "* __Better Option__: Keep steps 1 and 2\n",
    "* ClosestPair(P<sub>x</sub>,P<sub>y</sub>)\n",
    "    1. _let Q = left half of P, R = right half of P_ --> (O(n log n))\n",
    "        * Form Qx, Qy, Rx, Ry by linear scan --> Copies of Q, R sorted by x and y \n",
    "    2. Recursive calls --> O(log n)\n",
    "        * `(p1, q1) = ClosestPair(Qx, Qy)`  \n",
    "        * `(p2, q2) = ClosestPair(Rx, Ry)` \n",
    "    3. Let `delta =  min{d(p1, q1), d(p2, q2)}`\n",
    "    4. `(p3, q3) = ClosestSplitPair(Px, Py, delta)`\n",
    "        * returns Null if no split pairs, or the new best pair if exists\n",
    "    5. Return best of (p<sub>1</sub>, q<sub>1</sub>), (p<sub>2</sub>, q<sub>2</sub>), (p<sub>3</sub>, q<sub>3</sub>)"
   ]
  },
  {
   "cell_type": "markdown",
   "id": "respective-initial",
   "metadata": {},
   "source": [
    "### ClosestSplitPair(P<sub>x</sub>, P<sub>y</sub>, delta) Pseudocode <a class=\"anchor\" id=\"pair2\"></a>"
   ]
  },
  {
   "cell_type": "markdown",
   "id": "enclosed-union",
   "metadata": {},
   "source": [
    "* Correctness measures:\n",
    "    1. O(n) time\n",
    "    2. Correct whenever closest pair of P is a split pair\n",
    "* Delta is the parameter that controls whether or not we  actually care about the closest split pair, because we only care if there  is a split pair at distance < delta.\n",
    "* Prune away extra points and focus on those that lie in a vertical strip of width 2(delta) which is roughly centered in the middle of the point set. For the purposes of this subroutine, the points in this strip are the only ones we care about anymore\n",
    "\n",
    "<img src = \"resources/split_pair.PNG\">\n",
    "\n",
    "* ClosestSplitPair(P<sub>x</sub>, P<sub>y</sub>, delta):\n",
    "    * _Let xbar = biggest x-coordinate in left of P_ --> O(1) time\n",
    "    * _Let Sy = points of P with x-coordinate in the interval [(xbar - delta), (xbar + delta)] sorted by y coordinate_\n",
    "    \n",
    "    * Initialize a variable to keep track of best candidate and best pair 'so far'  \n",
    "        * `best = delta`\n",
    "        * `best_pair = Null` \n",
    "        \n",
    "`for i = 1 to |Sy| - 7:\n",
    "    for j = 1 to 7:\n",
    "        let p,q = i, (i+j) points of Sy\n",
    "        if d(p,q) < best\n",
    "            best pair = (p,q)\n",
    "            best = d(p,q) `\n",
    " \n",
    "* __Running Time__:\n",
    "    * O(1) time for initializing variables\n",
    "    * O(n) for outer loop \n",
    "    * O(1) for the inner loop - we only look at a constant number of other positions\n",
    "    * __Subroutine Total__ - O(n)\n",
    "    * __Algo Total__: O(n log n)\n",
    "        * O(n log n) to sort and split lists\n",
    "        * O(log n) for recursive calls\n",
    "        * O(n) for split pairs \n"
   ]
  },
  {
   "cell_type": "markdown",
   "id": "dried-intelligence",
   "metadata": {},
   "source": [
    "#### Correctness Claim "
   ]
  },
  {
   "cell_type": "markdown",
   "id": "dimensional-communication",
   "metadata": {},
   "source": [
    "* __Correctness Claim__: Let there exist a P<sub>q</sub>, Q<sub>r</sub> be a split pair with distance (d(pq)) < delta, THEN:\n",
    "    * _A - p and q are members of S<sub>y</sub>_\n",
    "    * _B - p and q are at most 7 positions apart ins S<sub>y</sub>_\n",
    "    * If this is true then:\n",
    "        * __Corollary1__: If the closest pair of P is a split pair, then ClosestSplitPair finds it\n",
    "        * __Corollary2__: ClosestPair is correct and runs in O(n log(n)) time\n"
   ]
  },
  {
   "cell_type": "markdown",
   "id": "matched-medicaid",
   "metadata": {},
   "source": [
    "#### Proof of Claim A"
   ]
  },
  {
   "cell_type": "markdown",
   "id": "elegant-climate",
   "metadata": {},
   "source": [
    "* __Proof of Correctness Claim (A)__: \n",
    "    * let p = (x1, y1) from the left half of the point set (Q), and we have point q = (x2,y2) from the right side of the point set (R), d(p,q) < delta\n",
    "    * _Note: Since d(p,q) < delta, |x1-x2| < delta and |y1-y2| < delta_\n",
    "    * A is really saying that p and q are within delta of Xbar \n",
    "    <img src=\"resources/pairs_proofA.PNG\">\n",
    "    * Xbar = the n/2th X-coord from the left most set (ie: the farthest right)\n",
    "    * p distance:\n",
    "        1. p is from the left half of the plane\n",
    "        2. We are assuming that there is a split pair that has distance less than delta\n",
    "        3. p can only be _at most_ xbar, the farthest right coord in the left set --> p <= xbar\n",
    "    * q distance:\n",
    "        1. q is from the right half of the plane\n",
    "        2. xbar is the farthest right from the _left_ half of the plane\n",
    "        3. q _must_ be at least xbar --> q > xbar\n",
    "    * d(p,q):\n",
    "        1. We are assuming there is a split pair that has distance less than delta\n",
    "        2. Because p can at most be xbar, q can at most be xbar + delta \n",
    "        3. Because q must be at least xbar, p can be at minimum xbar - delta\n",
    "    * Sy\n",
    "        1. Sy is defined as the vertical strip of the plane with bounds xbar +- delta\n",
    "        2. xbar - delta <= p <= xbar <= q <= xbar + delta\n",
    "        3. So p and q must be inside the strip. "
   ]
  },
  {
   "cell_type": "markdown",
   "id": "foster-editor",
   "metadata": {},
   "source": [
    "#### Proof of Claim B"
   ]
  },
  {
   "cell_type": "markdown",
   "id": "placed-plasma",
   "metadata": {},
   "source": [
    "* __Proof of Correctness Claim (B)__: \n",
    "    * p(x1, y1) and q (x2, y2) are at most 7 partitions apart in Sy\n",
    "    * Imagine delta/2 x delta/2 boxes with center xbar and min{y1, y2}\n",
    "    <img src = \"resources/pairs_proofB.PNG\">\n",
    "    * Lemma 1: All points of Sy with y-coordinate between those of p and q inclusive, lie in one of these 8 boxes\n",
    "        1. If the Euclidean distance is less than delta, the Y coordinates of p, q must differ by <= delta\n",
    "        2. The point with the greater y (in this case, p) can only be <= y(min) + delta from the bottom at the farthest\n",
    "        3. By definition of Sy, all points inside it have x-coordinates between xbar +- delta\n",
    "    * Lemma 2: There can only be 0 or 1 point in each of the 8 boxes\n",
    "        * This is also why we only had to worry about split pairs in the \"unlucky\" case\n",
    "        * _Proof by Contradiction_ - Suppose a, b lie in the same box at antipodal corners, THEN\n",
    "        <img src = \"resources/pairs_proofB2.PNG\">\n",
    "        1. a, b are either both in Q or both in R \n",
    "            * Each box is entirely in either Q  or R\n",
    "            * Any point with x coordinate at most xbar must be in Q, any x-coordinate at least xbar must be in R\n",
    "            * Here, a and b both have x-coordinate > xbar, so they are both in R\n",
    "        2. If a,b share a box, d(a, b) can at most be (delta/2)(root(2))\n",
    "            * Pythagorean theorem for that expression\n",
    "            * delta = d(closest pair) on the same side, as calculated by our recursive calls and passed into the SplitPairs subroutine\n",
    "            * By extension of delta's definition, no two points in the same set Q, R can have d < delta\n",
    "            * ___(delta/2)(root(2)) < delta___\n",
    "        * These two consequences in tandem contradicts the definition of delta"
   ]
  },
  {
   "cell_type": "markdown",
   "id": "accessible-quantity",
   "metadata": {},
   "source": [
    "#### Wrap-up"
   ]
  },
  {
   "cell_type": "markdown",
   "id": "identified-detector",
   "metadata": {},
   "source": [
    "* Lemma 1 proves every relevant point that survives the filtering and makes it into Sy has to be in one of these 8 boxes. Lemma 2 proves that there can be at most one point in each box, or 8 points total, including p and q.\n",
    "* If p is our first point, and q is our last, they can at most be 7 apart (8-1 = 7)\n",
    "* This means that in our algorithm, our double for loop (limited at 7) is guaranteed to identify any split pair with d(p, q) < delta"
   ]
  },
  {
   "cell_type": "markdown",
   "id": "british-brake",
   "metadata": {},
   "source": [
    "## Quiz Questions <a class=\"anchor\" id =\"qa\"></a>"
   ]
  },
  {
   "cell_type": "markdown",
   "id": "smart-solution",
   "metadata": {},
   "source": [
    "* What is the largest number of inversions that a 6-element array can have? \n",
    "    * 15\n",
    "<br>\n",
    "\n",
    "* Given an array A where all inversions are either left or right (no split inversions). What is the relationship between the sorted subarrays B and C?\n",
    "    * All elements of B are less than all elements of C\n",
    "<br>\n",
    "\n",
    "* What is the running time of the straightforward iterative algorithm for matrix multiplication?\n",
    "    * O(n<sup>3</sup>)\n",
    "<br>\n",
    "\n",
    "* Suppose we can correctly implement the ClosestSplitPair subroutine in _O(n)_ time. What will be the overall running time of the Closest Pair algorithm? \n",
    "    * O(n log n)"
   ]
  }
 ],
 "metadata": {
  "kernelspec": {
   "display_name": "Python 3",
   "language": "python",
   "name": "python3"
  },
  "language_info": {
   "codemirror_mode": {
    "name": "ipython",
    "version": 3
   },
   "file_extension": ".py",
   "mimetype": "text/x-python",
   "name": "python",
   "nbconvert_exporter": "python",
   "pygments_lexer": "ipython3",
   "version": "3.8.5"
  }
 },
 "nbformat": 4,
 "nbformat_minor": 5
}
