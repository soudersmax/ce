{
 "cells": [
  {
   "cell_type": "markdown",
   "id": "norman-stupid",
   "metadata": {},
   "source": [
    "# Introduction \n",
    "\n",
    "<a href=\"https://online.stanford.edu/courses/soe-ycsalgorithms1-algorithms-design-and-analysis-part-1\">Stanford University Online - Algorithms: Design and Analysis, Part 1</a>\n",
    "> \"Perhaps the most important principle for the good algorithm designer is to refuse to be content.\" \n",
    " -Aho, Hopcroft, and Ullman, _The Design and Analysis of Computer Algorithms_, 1974  \n",
    " \n",
    "* [Integer Multiplication (Grade School)](#grade)\n",
    "* [Karatsuba Multiplication (Integer Multiplication Redux)](#kara)\n",
    "    * [A Recursive Algorithm](#rec)\n",
    "    * [Optimization of Karatsuba Multiplication](#opt)\n",
    "* [Course Topics](#course)\n",
    "* [Merge Sort](#merge)\n",
    "    * [The Sorting Problem](#prob)\n",
    "    * [Pseudocode](#pseudo)\n",
    "    * [Analysis](#anal)\n",
    "* [Guiding Principles for Analysis of Algorithms](#princ)\n",
    "* [Exploration Questions](#quest)"
   ]
  },
  {
   "cell_type": "markdown",
   "id": "dominican-dependence",
   "metadata": {},
   "source": [
    "## Integer Multiplication (Grade School) <a class=\"anchor\" id=\"grade\"></a>"
   ]
  },
  {
   "cell_type": "markdown",
   "id": "blank-valuation",
   "metadata": {},
   "source": [
    "* __Primitive Operations__: add or multiply 2 single-digit numbers\n",
    "* When breaking down problems, focus on the number of basic operations an algorithm performs as a function of the length of the input\n",
    "* Integer Multiplication - \n",
    "    * __Input__:  2 n-digit numbers\n",
    "    * __Output__: x * y\n",
    "    * 5678 * 1234 = Sum of the product of 5678 and each of 1234 digits\n",
    "        * 5678 * 4 = 22712\n",
    "        * 5678 * 30 = 170340\n",
    "        * 5678 * 200 = 1135600\n",
    "        * 5678 * 1000 = 5678000\n",
    "        * 22712 + 170340 + 1135600 + 5678000 = 7006652\n",
    "    * Overall, the number of basic operations <= constant * n^2 (in this case, constant is 4)\n",
    "        * 4 multiplications + 4 carries --> 8 basic operations --> 2n per partial product\n",
    "        * 2n operations * 4 partial products = 2n ops * n partial products = 2n^2 basic operations \n",
    "        * Final addition of all partial products requires roughly the same number of operations (2n^2)\n",
    "        * Total count is 4n^2 --> _quadratic_\n",
    "    * Because the result is quadratic, if you double the number of digits (n), the number of operations will increase by a factor of 4, triple by a factor of 8, quadruple by a factor of 16 etc."
   ]
  },
  {
   "cell_type": "markdown",
   "id": "adjustable-tennessee",
   "metadata": {},
   "source": [
    "## Karatsuba Multiplication (Int Multip. Redux) <a class=\"anchor\" id=\"kara\"></a>"
   ]
  },
  {
   "cell_type": "markdown",
   "id": "suffering-thunder",
   "metadata": {},
   "source": [
    "* Karatsuba Multiplication\n",
    "    * __Input__: 2 n-digit numbers\n",
    "    * __Output__: x * y\n",
    "    * 5678 * 1234 =  \n",
    "        * Step 0: Break into 2-digit numbers\n",
    "            * a = 56\n",
    "            * b = 78\n",
    "            * c = 12\n",
    "            * d = 34\n",
    "        * Step 1: a * c = 56 * 12 = 672\n",
    "        * Step 2: b * d = 78 * 34 = 2652\n",
    "        * Step 3: (a+b) * (c + d) = (56 + 78) * (12 * 34) = 134 * 46 = 6164\n",
    "        * Step 4: Subtract results from previous steps: 6164 - 2652 - 672 = 2840\n",
    "        * Combine:\n",
    "            * Pad Step 1 with 4 0's = 6720000\n",
    "            * Don't pad Step 2 at all = 2652\n",
    "            * Pad Step  4 with 2 0s: 28400\n",
    "            * Sum: 7006652\n",
    "* The main point is that there is more than a single way to solve the problem of integer multiplication, and some may be better than others"
   ]
  },
  {
   "cell_type": "markdown",
   "id": "interesting-avatar",
   "metadata": {},
   "source": [
    "### A Recursive Algorithm <a class=\"anchor\" id=\"rec\"></a>"
   ]
  },
  {
   "cell_type": "markdown",
   "id": "dynamic-missouri",
   "metadata": {},
   "source": [
    "* Write x = 10^(n/2)a + b and y = 10(n/2)c + d, where abcd are n/2 digit integers\n",
    "    * In general, any number can be represented this way, with each part a and b comprising of each half of the number (visually, not arithmetically), padded appropriately.\n",
    "    * See Step 0 above\n",
    "* x * y = (10^(n/2) a + b)(10^(n/2) c + d)\n",
    "* Expanded for computation = (10^n)ac + (10^n/2)(ad + bc) + bd = K\n",
    "    * This expression will now be called K for future reference\n",
    "    * K assumes that n is an even integer, but for odds it's basically the same (n = 9 --> First 5 and then second 4 in the number)\n",
    "    * K ignores the simple base case\n",
    "    * K achieves the same result as 5678 * 1234 but deals only with _smaller numbers_\n",
    "* Recursively compute __ac, ad, bc, bd__, pad with 0s, then add each part of K together\n",
    "    * Base case would be 2 numbers that are sufficiently small (ie: 1 digit) are just multiplied and returned"
   ]
  },
  {
   "cell_type": "markdown",
   "id": "enclosed-sleeping",
   "metadata": {},
   "source": [
    "### Optimization of Karatsuba Multiplication <a class=\"anchor\" id=\"opt\"></a>"
   ]
  },
  {
   "cell_type": "markdown",
   "id": "equal-cycle",
   "metadata": {},
   "source": [
    "* K --> x * y = (10^n)ac + (10^n/2)(ad + bc) + bd\n",
    "    * We actually only care about 3 values (ac, bd, and (ad + bc)), because we don't really need ad and bc individually, just their sum. ___Can we compute this with only 3 recursive calls then?___\n",
    "    * Step 1: recursively compute ac\n",
    "    * Step 2: recursively compute bd\n",
    "    * Step 3: recursively compute (a+c)(c+d)\n",
    "        * Expanded: ac + ad + bc + bd\n",
    "    * Step 4 - Gauss's Trick: Look at step 3 and subtract from it what we have calculated from Steps 1 and 2\n",
    "        * Step 1 cancels out ac, Step 2 cancels out bd, leaving us with just (ad + bc)\n",
    "    * Results in the same value (and really the same method) as the recursive call, but reduces the recursion at the expense of including an addition and a subtraction\n",
    "    > Karatsuba Multiplication is an example of DIVIDE AND CONQUER"
   ]
  },
  {
   "cell_type": "markdown",
   "id": "suburban-crisis",
   "metadata": {},
   "source": [
    "## Course Topics <a class=\"anchor\" id=\"course\"></a>"
   ]
  },
  {
   "cell_type": "markdown",
   "id": "organic-definition",
   "metadata": {},
   "source": [
    "* Vocabulary for design and analysis of algorithms\n",
    "    * Big O - ignore lower level operations and focus only on how time requirements scale with inputs\n",
    "* Key algorithm design techniques \n",
    "    * Divide and Conquer - Break the problem into smaller parts that can be solved recursively, then somehow combine all of those into one result\n",
    "        * Applies to integer multiplication, sorting, matrix multiplication, closest pair\n",
    "        * Considered a \"Master Method/Theorem\" for general analysis\n",
    "* Randomization in Algorithm Design\n",
    "    * QuickSort, primality testing, graph partitioning, hashing\n",
    "    * Different executions even when run on the same input\n",
    "* Primitives for reasoning about graphs\n",
    "    * Connectivity information, shortest paths, structure of information and social networks\n",
    "    * Computation is so fast that it is essentially \"free\"\n",
    "    * Very helpful for preprocessing\n",
    "* Use and implementation of data structures\n",
    "    * Arrays, vectors, lists, stacks, queues, heaps, balanced binary search trees, hashing and some variants, graphs\n",
    "    * Graph - data structure that has vertices connected by \"edges\" and are great for modeling networks. Even though they are more complicated than arrays, there are still very fast primitives\n",
    "    * Balanced Binary Search Trees  dynamically maintain an ordering on a set of elements while supporting a large number of queries that run in time logarithmic in the size of the set\n",
    "    * Hash tables/Hash Maps - keep track of a dynamic set while supporting extremely fast insert and lookup queries"
   ]
  },
  {
   "cell_type": "markdown",
   "id": "living-genius",
   "metadata": {},
   "source": [
    "## Merge Sort <a class=\"anchor\" id=\"merge\"></a>"
   ]
  },
  {
   "cell_type": "markdown",
   "id": "level-sacramento",
   "metadata": {},
   "source": [
    "* Good introduction to divide and conquer\n",
    "    * Improves over Selection, Insertion, Bubble sorts \n",
    "    * Above sorts have a quadratic dependence on input, merge sort has less\n",
    "* Recursion-Tree method - \"Master Method\""
   ]
  },
  {
   "cell_type": "markdown",
   "id": "valuable-climb",
   "metadata": {},
   "source": [
    "### The Sorting Problem <a class=\"anchor\" id=\"sort\"></a>"
   ]
  },
  {
   "cell_type": "markdown",
   "id": "proud-third",
   "metadata": {},
   "source": [
    "* __input__: unsorted array of numbers\n",
    "* __output__: same numbers, sorted\n",
    "* General Idea - recursively calls itself to the \"lowest level\" then goes back up \n",
    "* Imagine an array of 8 elements: 5 4 1 8 7 2 6 3\n",
    "    * Splits in half recursively eventually returns:\n",
    "        * 5418 --> 1 4 5 8\n",
    "        * 7263 --> 2 3 6 7\n",
    "    * Merge: combine the returned values to output the sorted list"
   ]
  },
  {
   "cell_type": "markdown",
   "id": "qualified-jefferson",
   "metadata": {},
   "source": [
    "### Pseudocode <a class=\"anchor\" id=\"pseudo\"></a>"
   ]
  },
  {
   "cell_type": "markdown",
   "id": "digital-texas",
   "metadata": {},
   "source": [
    "* Ignores odd length lists, additional check for end of each arrays\n",
    "1. Recursively sort 1st half of input array\n",
    "    * Base Case: array with single element (or empty) is returned with no recursion\n",
    "2. Recursively sort 2nd half of input array\n",
    "    * Base Case: array with single element (or empty) is returned with no recursion\n",
    "3. Merge two sorted sublists into 1 \n",
    "    * C = output array (length = n)\n",
    "    * A, B = 1st and 2nd sorted array (length = n/2)\n",
    "    * i, j = iterators for traversing A and B respectively. Initialized at 1.\n",
    "    * k = iterator for traversing C. Initialized at 0. --> BASICALLY A POINTER\n",
    "    * For k = 1 to n:\n",
    "        * if A(i) < B(j): C(k) = A(i) i++\n",
    "        * else B(j) < A(i): C(k) = B(j) j ++\n",
    "* Running Time - Imagine running the algorithm through a debugger, and determine how many times it performs an operation before terminating\n",
    "* Merge Step <= 6n\n",
    "    * Initialization Step (1 operation each = 2 Total)\n",
    "    * For Loop: Comparison, Assignment, Increment i/j, Increment K (4 total per iteration of the loop)\n",
    "    * Total = 2 initializations + (4 operations * n loops) = 4m + 2\n",
    "    * Can make it even simpler to 6n (n >= 1)\n",
    "* The small differences in how you might count the number of basic operations don't matter much"
   ]
  },
  {
   "cell_type": "markdown",
   "id": "relative-manitoba",
   "metadata": {},
   "source": [
    "### Analysis <a class=\"anchor\" id=\"anal\"></a>"
   ]
  },
  {
   "cell_type": "markdown",
   "id": "double-venture",
   "metadata": {},
   "source": [
    "* __CLAIM__: Merge sort requires <= 6nlog(n) + 6n operations. \n",
    "    * Comparing to the quadratic dependency above, this is _much_ faster\n",
    "* log base2 of n - Number of times you can divide n by 2 until the number drops below 1. \n",
    "    * log2(32) ---> 2 * 2 * 2 * 2 * 2 = 32 --> 5\n",
    "    * Much smaller than whatever the input is \n",
    "* Recursion Tree Method - Write out all the work done by recursive merge sort algorithm in a tree structure, with the children of a given node corresponding to the recursive calls made by that node\n",
    "\n",
    "<img src=\"resources/rec_tree.PNG\">\n",
    "\n",
    "* __At a given level j of this recursion, how many distinct sub-problems are there?__ 2^j\n",
    "* __For each of these subproblems at level j, what is the input size?__ n/2^i\n",
    "* When counting levels of recursion tree, it does not include work which will get done _in the recursion_\n",
    "    * Number of problems at a given level j <= 2^j\n",
    "    * Amount of workdone per sub-problem = 6(n/2^j)\n",
    "        * Each input after it recursively = n/2^j\n",
    "        * Merge subroutine is at most 6n\n",
    "    * Total # of operations at level j <= 2^j +6(n/2^j) ==> 2^j cancels = 6n, independent of level j\n",
    "        * simply put: number of problems per level increases by a factor of 2, but the work per problem decreases by a factor of 2\n",
    "    * __Total Run Time of Merge Sort__ = number of levels  * upper bound\n",
    "        * We know that there will be logn + 1 levels \n",
    "        * we just determined upper bound independent of level = 6n\n",
    "        * 6n(logn + 1) ==> 6nlogn + 6n\n"
   ]
  },
  {
   "cell_type": "markdown",
   "id": "ignored-radius",
   "metadata": {},
   "source": [
    "## Guiding Principles for Analysis of Algorithms <a class=\"anchor\" id=\"princ\"></a>"
   ]
  },
  {
   "cell_type": "markdown",
   "id": "intimate-inspector",
   "metadata": {},
   "source": [
    "1. Use worst-case analysis - find the _upper bound_ of run time\n",
    "    * Particularly appropriate for \"general purpose\" routines\n",
    "    * As opposed to average case analysis or any sort of pre-supposed benchmark inputs, which both require domain knowledge of the specific problem you are analyzing\n",
    "    * BONUS: worst case is usually easier to analyze\n",
    "2. In general, ignore constant factors and lower order terms\n",
    "    * Mathematically easier\n",
    "    * Constants ultimately rely on machine dependent factors like architecture/compiler and the programmer anyway\n",
    "    * Lose very little predictive power\n",
    "    * For crucial programs, constant factors need to be optimized. For understanding an analysis at this level, it's just unnecessary.\n",
    "3. Asymptotic Analysis - Focus on rate of growth at large input size (ie: approaching infinity)\n",
    "    * EG: Merge sort (6nlogn + 6n) \"better than\" other sort methods, like an insertion sort (1/2 n^2) IF AND ONLY IF n is sufficiently large. \n",
    "    * Modern computers solve a typical n instantaneously, so the only times an algorithmic approach really matters is at large input size\n",
    "    \n",
    "<img src=\"resources/sort_speed_graph.PNG\">\n",
    "<img src=\"resources/sort_speed_graph2.PNG\">\n",
    "\n",
    "> For the purposes of this course, a fast algorithm is one in which the worst-case running time grows slowly with input size. Always aspire toward linear time"
   ]
  },
  {
   "cell_type": "markdown",
   "id": "handy-singles",
   "metadata": {},
   "source": [
    "## Exploration Questions <a class=\"anchor\" id=\"quest\"></a>"
   ]
  },
  {
   "cell_type": "markdown",
   "id": "moving-reward",
   "metadata": {},
   "source": [
    "* How would the analysis of a merge sort change if there were duplicate numbers in the array?"
   ]
  }
 ],
 "metadata": {
  "kernelspec": {
   "display_name": "Python 3",
   "language": "python",
   "name": "python3"
  },
  "language_info": {
   "codemirror_mode": {
    "name": "ipython",
    "version": 3
   },
   "file_extension": ".py",
   "mimetype": "text/x-python",
   "name": "python",
   "nbconvert_exporter": "python",
   "pygments_lexer": "ipython3",
   "version": "3.8.5"
  }
 },
 "nbformat": 4,
 "nbformat_minor": 5
}
