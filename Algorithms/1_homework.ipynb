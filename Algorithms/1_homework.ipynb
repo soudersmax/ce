{
 "cells": [
  {
   "cell_type": "markdown",
   "id": "encouraging-calculator",
   "metadata": {},
   "source": [
    "# Homework 1"
   ]
  },
  {
   "cell_type": "markdown",
   "id": "musical-spirit",
   "metadata": {},
   "source": [
    "* 3-way-Merge Sort : Suppose that instead of dividing in half at each step of Merge Sort, you divide into thirds, sort each third, and finally combine all of them using a three-way merge subroutine. What is the overall asymptotic running time of this algorithm? Note that the merge step can still be implemented in O(n) time. ___n log n___\n",
    "\n",
    "\n",
    "* You are given functions f and g such that f(n)=O(g(n)). Is f(n)∗log2(f(n)c)=O(g(n)∗log2(g(n)))? (Here c is some positive constant.) You should assume that f and g are nondecreasing and always bigger than 1. ___True. Roughly, because the constant c in the exponent is inside a logarithm, it becomes part of the leading constant and gets suppressed by the big-Oh notation.___\n",
    "\n",
    "\n",
    "* Assume again two (positive) nondecreasing functions f and g such that f(n)=O(g(n)). Is 2f(n)=O(2g(n))? (Multiple answers may be correct, you should check all of those that apply.) ___Sometimes, Yes if f(n) <= g(n) for all sufficiently large n___\n",
    "\n",
    "\n",
    "* k-way-merge sort: Suppose you are given k sorted arrays, each with n elements, and you want to combine them into a single array of kn elements. Consider the following approach. Using the merge subroutine taught in lecture, you merge the first 2 arrays, then merge the 3rd given array with this merged version of the first two arrays, then merge the 4th given array with the merged version of the first three arrays, and so on until you merge in the final (kth) input array. What is the running time taken by this successive merging algorithm, as a function of k and n? (Optional: can you think of a faster way to do the k-way merge procedure ?) ___Theta(nk<sup>2</sup>. For the upper bound, the merged list size is always O(kn), merging is linear in the size of the larger array, and there are k iterations. For the lower bound, each of the last k/2 merges takes Ω(kn) time.___\n",
    "\n",
    "\n",
    "* Arrange the following functions in increasing order of growth rate (with g(n) following f(n) in your list if and only if f(n)=O(g(n))). ___2<sup>root(log(n))</sup>, root(n), n<sup>1.5</sup>, n<sup>5/3</sup>, 10<sup>n</sup>___"
   ]
  },
  {
   "cell_type": "markdown",
   "id": "aggressive-night",
   "metadata": {},
   "source": [
    "# Optional Theory Problems"
   ]
  },
  {
   "cell_type": "markdown",
   "id": "frequent-compensation",
   "metadata": {},
   "source": [
    "1. You are given as input an unsorted array of n distinct numbers, where n is a power of 2. Give an algorithm that identifies the second-largest number in the array, and that uses at most n+log2n−2 comparisons.\n",
    "\n",
    "\n",
    "2. You are a given a unimodal array of n distinct elements, meaning that its entries are in increasing order up until its maximum element, after which its elements are in decreasing order. Give an algorithm to compute the maximum element that runs in O(log n) time.\n",
    "\n",
    "\n",
    "3. You are given a sorted (from smallest to largest) array A of n distinct integers which can be positive, negative, or zero. You want to decide whether or not there is an index i such that A[i] = i. Design the fastest algorithm that you can for solving this problem."
   ]
  }
 ],
 "metadata": {
  "kernelspec": {
   "display_name": "Python 3",
   "language": "python",
   "name": "python3"
  },
  "language_info": {
   "codemirror_mode": {
    "name": "ipython",
    "version": 3
   },
   "file_extension": ".py",
   "mimetype": "text/x-python",
   "name": "python",
   "nbconvert_exporter": "python",
   "pygments_lexer": "ipython3",
   "version": "3.8.5"
  }
 },
 "nbformat": 4,
 "nbformat_minor": 5
}
