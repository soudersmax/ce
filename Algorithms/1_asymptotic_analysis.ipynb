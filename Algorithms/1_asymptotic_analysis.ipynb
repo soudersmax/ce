{
 "cells": [
  {
   "cell_type": "markdown",
   "id": "casual-bacon",
   "metadata": {},
   "source": [
    "# Asymptotic Analysis\n",
    "\n",
    "* [The Gist](#gist)\n",
    "    * [Example: One Loop](#bas1)\n",
    "    * [Example: Two Sequential Loops](#bas2)\n",
    "    * [Example: Two Nested Loops, 2 Arrays](#bas3)\n",
    "    * [Example 4: Two Nested Loops, 1 Array](#bas4)\n",
    "* [Big-Oh Notation](#bigo)\n",
    "    * [Example 1: Prove the Definition](#ex1)\n",
    "    * [Example 2: Proof by Contradiction](#ex2)\n",
    "* [Big Omega and Theta](#bigo-t)\n",
    "    * [Big Omega](#om)\n",
    "    * [Big Theta](#th)\n",
    "    * [Quiz Question](#quiz)\n",
    "    * [Little-Oh Notation](#lo)\n",
    "* [Additional Examples](#addex)\n",
    "    * [Example 3](#ex3)\n",
    "    * [Example 4](#ex4)\n",
    "    * [Example 5](#ex5)"
   ]
  },
  {
   "cell_type": "markdown",
   "id": "introductory-honduras",
   "metadata": {},
   "source": [
    "## The Gist <a class=\"anchor\" id=\"gist\"></a>"
   ]
  },
  {
   "cell_type": "markdown",
   "id": "quarterly-violation",
   "metadata": {},
   "source": [
    "* __Importance__ - vocabulary for the design and analysis of algorithms. \n",
    "    * identifies a sweet spot for high level reasoning about algorithms \n",
    "        * Coarse enough to suppress architecture/language.compiler-dependent details\n",
    "        * Sharp enough to make useful comparisons between different algorithms, especially on large inputs\n",
    "* __High Level idea__ - suppress constant factors and lower-order terms\n",
    "    * Lower-order terms become increasingly irrelevant as we reach large inputs\n",
    "    * Constant factors are highly dependent on the environment/system/etc\n",
    "    * _Example_: equate 6nlog<sub>2</sub>n with just nlogn --> Merge sort algorithms running time is \"O(nlogn)\" where n = input size (Big-Oh notation)"
   ]
  },
  {
   "cell_type": "markdown",
   "id": "allied-purse",
   "metadata": {},
   "source": [
    "### Example: One Loop <a class=\"anchor\" id=\"bas1\"></a>"
   ]
  },
  {
   "cell_type": "markdown",
   "id": "sound-hacker",
   "metadata": {},
   "source": [
    "* __Problem__: does array A contain the integer t?  \n",
    "`\n",
    "for i = 1 to n:  \n",
    "    if A[i] == t return True\n",
    "return False`  \n",
    "* Worst case scenario - checks every number in the array and is unsuccessful at locating t\n",
    "    * Running time as a function of the length of A = O(n) --> linear in the input length n"
   ]
  },
  {
   "cell_type": "markdown",
   "id": "double-fever",
   "metadata": {},
   "source": [
    "### Example: Two Sequential Loops <a class=\"anchor\" id=\"bas2\"></a>"
   ]
  },
  {
   "cell_type": "markdown",
   "id": "other-anime",
   "metadata": {},
   "source": [
    "* __Problem__: given 2 arrays A, B of length n and an integer t <br>\n",
    "`for i = 1 to n\n",
    "    if A[i] == t return True\n",
    "for i = 1 to n\n",
    "    if B[i] == t return True\n",
    "return False`\n",
    "* Worst case scenario - checks every n in A and B and is unsuccessful at locating t\n",
    "    * Running time of A = n\n",
    "    * Running time of B = n\n",
    "    * Overall = 2n = O(n) --> still linear time"
   ]
  },
  {
   "cell_type": "markdown",
   "id": "armed-timothy",
   "metadata": {},
   "source": [
    "### Example: Two Nested Loops, 2 Arrays <a class=\"anchor\" id=\"bas3\"></a>"
   ]
  },
  {
   "cell_type": "markdown",
   "id": "invisible-trademark",
   "metadata": {},
   "source": [
    "* __Problem__: given 2 arrays A, B of length n find common numbers    \n",
    "`for i = 1 to n:\n",
    "    for j = 1 to n:\n",
    "        if A[i] == B[j] return true\n",
    "return false `\n",
    "* Worst case scenario - For every N in A, the entirety of B is checked\n",
    "    * A[0] check B[n] times, A[1] checks B[n] times.....= O(n<sup>2</sup>)--> quadratic running time"
   ]
  },
  {
   "cell_type": "markdown",
   "id": "certain-voice",
   "metadata": {},
   "source": [
    "### Example: Two Nested Loops, 1 Array <a class=\"anchor\" id=\"bas4\"></a>"
   ]
  },
  {
   "cell_type": "markdown",
   "id": "joint-montreal",
   "metadata": {},
   "source": [
    "* __Problem__: does array A contain duplicate entries? given an array A of length n  \n",
    "<br>  \n",
    "`for i = 1 to n:\n",
    "    for j = i + 1 to n:\n",
    "        if A[i] == A[j] return True\n",
    "return False `\n",
    "\n",
    "* Worst case - Check i+1 for each n in A\n",
    "    * A[0] would run in n time all the way up to A[n] --> O(n<sup>2</sup>)\n",
    "    * Technically, this is faster than the example with 2 arrays, because only needing to count each number in 1 array saves us a factor of 2 time, although that is suppressed in O() anyway\n",
    "        * A[0]/[A1] --> A[1]/A[2] --> all the way down"
   ]
  },
  {
   "cell_type": "markdown",
   "id": "pursuant-engineering",
   "metadata": {},
   "source": [
    "## Big-Oh Notation <a class=\"anchor\" id=\"bigo\"></a>"
   ]
  },
  {
   "cell_type": "markdown",
   "id": "fancy-literature",
   "metadata": {},
   "source": [
    "* Concerns worst case running time of functions defined on the positive integers as a function of its input size n\n",
    "* __When is T(n) = O(f(n))?__\n",
    "    * Eventually, for all sufficiently large n, T(n) is bounded above by a constant multiple of n\n",
    "* __Formal Definition__:\n",
    "    * _T(n) = O(f(n))_\n",
    "    * _IF AND ONLY IF there exist constants (independent of n) c, n<sub>0</sub> > 0 such that_\n",
    "    * _T(n) <= c * f(n) for all n >= n<sub>0</sub>_\n",
    "    * c represets the constant multiple, n<sub>0</sub> ensures that n is sufficiently large (the point where F(n) * c will alway be greater than T(n))\n",
    "<img src = \"resources/big_oh.PNG\">"
   ]
  },
  {
   "cell_type": "markdown",
   "id": "white-communist",
   "metadata": {},
   "source": [
    "### Example 1 - Prove the definition <a class=\"anchor\" id=\"ex1\"></a>"
   ]
  },
  {
   "cell_type": "markdown",
   "id": "pretty-forwarding",
   "metadata": {},
   "source": [
    "* __Claim__: If T(n) = a<sub>k</sub>n<sup>k</sup> + ...... + a<sub>1</sub>n + a<sub>0</sub>\n",
    "    * For any _positive_ integer k and any coefficient a (sign-independent) \n",
    "    * T(n) = O(n<sup>k</sup>)\n",
    "* __Proof__: Choose n<sub>0</sub> = 1 and c = |a<sub>k</sub>| + |a<sub>k + 1</sub>| +....|a<sub>1</sub> + |a<sub>0></sub>\n",
    "    * These are magic numbers\n",
    "    * Need to show that for all n >= 1, T(n) us bounded above by c * n<sup>k</sup>\n",
    "    1. Set T(n) to its above definition, including absolute values to account for potential negatives\n",
    "    <img src=\"resources/ex1a.PNG\">\n",
    "    2. Set each n to the same exponent k (the worst case/highest exponent that appears)\n",
    "    <img src=\"resources/ex1b.PNG\">\n",
    "    3. Substitute c for the equivalent expression \n",
    "    <img src=\"resources/ex1c.PNG\">\n",
    " "
   ]
  },
  {
   "cell_type": "markdown",
   "id": "graduate-hometown",
   "metadata": {},
   "source": [
    "### Example 2 - Proof by Contradiction <a class=\"anchor\" id=\"ex2\"></a>"
   ]
  },
  {
   "cell_type": "markdown",
   "id": "differential-simulation",
   "metadata": {},
   "source": [
    "* __Claim__: For every K >= 1, n<sup>k</sup> is _not_ O(n<sup>k-1</sup>)\n",
    "* __Proof__: Use proof by contradiction to prove that something is _not_ something\n",
    "    1. Suppose the statement were correct, then by definition there would be two constants c and n<sub>0</sub> \n",
    "    <img src=\"resources/ex2b.PNG\">\n",
    "    2. Cancel n<sup>k-1</sup> from both inequalities\n",
    "    <img src=\"resources/ex2a.PNG\">\n",
    "    * In english, the above reads \"n is at most some constant c for all n at least greater than n<sub>0</sub>\" AKA All positive integers are bounded above by a constant c (ie: c + 1 is NOT greater than c) which is patently false"
   ]
  },
  {
   "cell_type": "markdown",
   "id": "meaning-quantity",
   "metadata": {},
   "source": [
    "## Big Omega and Theta <a class=\"anchor\" id=\"bigo-t\"></a>"
   ]
  },
  {
   "cell_type": "markdown",
   "id": "fatty-found",
   "metadata": {},
   "source": [
    "### Big Omega <a class=\"anchor\" id=\"om\"></a>"
   ]
  },
  {
   "cell_type": "markdown",
   "id": "tribal-times",
   "metadata": {},
   "source": [
    "* Analagous to \"greater than or equal to\"\n",
    "* __Formal Definition__ :\n",
    "    * _T(n)= Omega(f(n))_\n",
    "    * _IF AND ONLY IF there exist constants (independent of n) c, n<sub>0</sub> > 0 such that_\n",
    "    * _T(n) >= c * f(n) for all n >= n<sub>0</sub>_\n",
    "    * n<sub>0</sub> is the point where c * f(n) lies below T(n)\n",
    "<img src = \"resources/big_omega.PNG\">"
   ]
  },
  {
   "cell_type": "markdown",
   "id": "female-power",
   "metadata": {},
   "source": [
    "### Big Theta <a class=\"anchor\" id=\"th\"></a>"
   ]
  },
  {
   "cell_type": "markdown",
   "id": "failing-trainer",
   "metadata": {},
   "source": [
    "* Analagous to \"equal to\"\n",
    "* __Formal Definition__:\n",
    "    * _T(n) = Theta(f(n))_\n",
    "    * _IF AND ONLY IF T(n) = O(f(n)) __and__ T(n) = Omega(f(n))_\n",
    "    * _2 constants C1 (small) and C2(big) and for all n >= n<sub>0</sub>, c1*f(n) <= T(n) <= C2(f(n))_\n",
    "* If a subroutine does constant work (and thus = theta(n)), the convention is just to say O(n) because we really only care about upper bounds of time "
   ]
  },
  {
   "cell_type": "markdown",
   "id": "broad-clark",
   "metadata": {},
   "source": [
    "### Quiz Question <a class=\"anchor\" id=\"quiz\"></a>"
   ]
  },
  {
   "cell_type": "markdown",
   "id": "trained-blogger",
   "metadata": {},
   "source": [
    "<img src=\"resources/quiz1.PNG\">\n",
    " \n",
    "* T(n) = O(n)\n",
    "* T(n) = Omega(n)\n",
    "* T(n) = Theta(n<sup>2</sup>)\n",
    "* T(n) = O(n<sup>3</sup>)\n",
    "\n",
    "* __Answer and Explanation__: The 2, 3, and 4 answers are correct.\n",
    "    * T(n) is definitely a quadratic function. We know that the linear term doesn't matter much as n grows large SO it's Theta(n<sup>2</sup>).\n",
    "    * As a quadratic function, T(n) grows _at least_ as fast as a linear function, so while T(n) = Omega(n) isn't a great observation, it is accurate/legitimate.    \n",
    "    * As a quadratic function, T(n) _cannot_ be greater than a cubic function. While T(n) = O(n<sup>3</sup>) isn't a gret upper bound, it's legitimate.\n",
    "     * For formal proof, test the constants:\n",
    "         * Omega - N<sub>0</sub> = 1 and c = 1/2\n",
    "         * O = N<sub>0</sub> = 1 and c = 4 (arbitrary)\n",
    "         * Theta = N<sub>0</sub> = 1, c1 = 1/2, and c2 = 4"
   ]
  },
  {
   "cell_type": "markdown",
   "id": "minute-sullivan",
   "metadata": {},
   "source": [
    "### Little-Oh Notation <a class=\"anchor\" id=\"lo\"></a>"
   ]
  },
  {
   "cell_type": "markdown",
   "id": "ahead-configuration",
   "metadata": {},
   "source": [
    "* Analagous to \"less than\"\n",
    "* __Formal Definition__:\n",
    "    * _T(n) = o(f(n))_\n",
    "    * _IF AND ONLY IF for all constants C there is a constant n<sub>0</sub> such that_\n",
    "    * _T(n) < c * f(n)_\n",
    "* NOTE THE STRICT LESS THAN \n",
    "* More difficult to prove than O"
   ]
  },
  {
   "cell_type": "markdown",
   "id": "quick-meter",
   "metadata": {},
   "source": [
    "## Additional Examples <a class=\"anchor\" id=\"addex\"></a>"
   ]
  },
  {
   "cell_type": "markdown",
   "id": "available-gothic",
   "metadata": {},
   "source": [
    "### Example 3 <a class=\"anchor\" id=\"ex3\"></a>"
   ]
  },
  {
   "cell_type": "markdown",
   "id": "moved-oxford",
   "metadata": {},
   "source": [
    "* __Claim__: 2<sup>n+10</sup> = O(2<sup>n</sup>)\n",
    "* __Proof__: Need to pick constants C, n<sub>0</sub> such that 2<sup>n+10</sup> = c * 2<sup>n</sup>\n",
    "1. 2<sup>n+10</sup>  = 2<sup>10</sup> * 2<sup>n</sup> = 1024 * 2<sup>n</sup>\n",
    "    * Notice - this got us into great shape because we want to get to the form c * 2<sup>n</sup>. so this basically gets us to c = 1024\n",
    "2. N<sub>0</sub> doesn't have to be clever , just set it to 1\n",
    "\n",
    "* __SO__: if we choose c = 1024, n<sub>0</sub> = 1, then 2<sup>n+10</sup> = O(2<sup>n</sup>)"
   ]
  },
  {
   "cell_type": "markdown",
   "id": "opened-south",
   "metadata": {},
   "source": [
    "### Example 4 <a class=\"anchor\" id=\"ex4\"></a>"
   ]
  },
  {
   "cell_type": "markdown",
   "id": "incoming-broadway",
   "metadata": {},
   "source": [
    "* __Claim__: 2<sup>10n</sup> != O(2<sup>n</sup>)\n",
    "* __Proof__: by contradiction\n",
    "    * If 2<sup>10n</sup> = O(2<sup>n</sup>), then we need 2 constants c, n<sub>0</sub> such that:\n",
    "    <img src=\"resources/ex4a.PNG\">\n",
    "    1. Cancel the 2 from the n terms on both sides by dividing by 2<sup>n</sup>\n",
    "    <img src=\"resources/ex4b.PNG\">\n",
    "    2. Notice: 2<sup>9n</sup> <= c for all n >= n<sub>0</sub>\n",
    "    * FALSE - We would find that there is a constant c that serves as upper bound even as n approaches infinity, which is obviously impossible "
   ]
  },
  {
   "cell_type": "markdown",
   "id": "working-details",
   "metadata": {},
   "source": [
    "### Example 5 <a class=\"anchor\" id=\"ex5\"></a>"
   ]
  },
  {
   "cell_type": "markdown",
   "id": "ancient-purse",
   "metadata": {},
   "source": [
    "* __Claim__: For every pair of positive functions, f(n) and g(n), max{f,g} = Theta(f(n) + g(n))\n",
    "    * When referring to the max{f, g} we are referring to the function that denotes the maximums of both functions as graphed together (ie: the blue line below)\n",
    "    <img src=\"resources/ex5a.PNG\">\n",
    "* __Proof__: f(n) can be sandwiched between constant multiples of g(f), so we need c1, c2, and n<sub>0</sub>\n",
    "    1. Assuming that f(n) and g(n) will never provide negative values, for every n we have:\n",
    "    <img src = \"resources/ex5b.PNG\">\n",
    "    2. If we _double_ the larger or f(n) and g(n):\n",
    "    <img src=\"resources/ex5c.PNG\">\n",
    "    3. We can then divide by 2, leaving us with max{f(n), g(n)} >= 1/2(f(n) + g(n))\n",
    "    <img src = \"resources/ex5d.PNG\">\n",
    "    4. Thus, for every possible N, the maximums are wedged between suitable multiples of the sum\n",
    "        * c1 = 1/2(f(n) + g(n))\n",
    "        * c2 = f(n) + g(n)     "
   ]
  }
 ],
 "metadata": {
  "kernelspec": {
   "display_name": "Python 3",
   "language": "python",
   "name": "python3"
  },
  "language_info": {
   "codemirror_mode": {
    "name": "ipython",
    "version": 3
   },
   "file_extension": ".py",
   "mimetype": "text/x-python",
   "name": "python",
   "nbconvert_exporter": "python",
   "pygments_lexer": "ipython3",
   "version": "3.8.5"
  }
 },
 "nbformat": 4,
 "nbformat_minor": 5
}
